{
  "nbformat": 4,
  "nbformat_minor": 0,
  "metadata": {
    "colab": {
      "name": "leetcode200.ipynb",
      "provenance": [],
      "authorship_tag": "ABX9TyMmrf8/hH/i0ivqIQS/OaYl",
      "include_colab_link": true
    },
    "kernelspec": {
      "name": "python3",
      "display_name": "Python 3"
    },
    "language_info": {
      "name": "python"
    }
  },
  "cells": [
    {
      "cell_type": "markdown",
      "metadata": {
        "id": "view-in-github",
        "colab_type": "text"
      },
      "source": [
        "<a href=\"https://colab.research.google.com/github/giyuntf2/1day1commit/blob/main/leetcode200.ipynb\" target=\"_parent\"><img src=\"https://colab.research.google.com/assets/colab-badge.svg\" alt=\"Open In Colab\"/></a>"
      ]
    },
    {
      "cell_type": "markdown",
      "source": [
        "# DFS (with Stack)\n",
        "\n",
        "### 그래프에서 깊은 부분을 우선적으로 하여 탐색하는 알고리즘\n",
        "\n",
        "**방문 방법**\n",
        "\n",
        "1. 시작 노드를 스택에 삽입하고 방문 처리함.\n",
        "2. 스택 최 상단 노드에 방문하지 않은 인접 노드가 있다면, 그 노드를 스택에 넣고 방문 처리함. 만약 방문하지 않은 인접 노드가 없다면 스택에서 최상단 노드를 꺼낸다.\n",
        "3. 2번 과정을 더 이상 수행할 수 없을 때까지 반복\n",
        "\n",
        "- 방문 처리된 녀석은 다시 스택에 안들어가게끔 하는 것을 말한다.\n",
        "\n",
        "### 시간복잡도\n",
        "\n",
        "- 탐색 수행시 데이터 갯수가 N개인 경우 O(N) 소요"
      ],
      "metadata": {
        "id": "iG8nBqbZy5qp"
      }
    },
    {
      "cell_type": "markdown",
      "source": [
        "# BFS (with Queue)\n",
        "\n",
        "### 그래프에서 깊은 부분을 우선적으로 하여 탐색하는 알고리즘\n",
        "\n",
        "**방문 방법**\n",
        "\n",
        "1. 시작 노드를 큐에 삽입하고 방문 처리함.\n",
        "2. 큐에서 노드를 꺼내 해당 노드의 인접 노드 중에서 방문하지 않은 노드를 모두 큐에 삽입하고 방문 처리를 한다.\n",
        "3. 2번 과정을 더 이상 수행할 수 없을 때까지 반복\n",
        "\n",
        "- 방문 처리된 녀석은 다시 스택에 안들어가게끔 하는 것을 말한다.\n",
        "\n",
        "### 시간복잡도\n",
        "\n",
        "- 탐색 수행시 데이터 갯수가 N개인 경우 O(N) 소요"
      ],
      "metadata": {
        "id": "GtgngZWwz-KK"
      }
    },
    {
      "cell_type": "code",
      "source": [
        "def cnt_island(grid):\n",
        "    cnt = 0\n",
        "\n",
        "    for i in range(len(grid)):\n",
        "        for j in range(len(grid[i])):\n",
        "            if grid[i][j] == '1':\n",
        "                cnt += 1\n",
        "                grid[i][j] = '*'\n",
        "\n",
        "    return grid, cnt\n",
        "\n",
        "grid = [\n",
        "  [\"1\",\"1\",\"1\",\"1\",\"0\"],\n",
        "  [\"1\",\"1\",\"0\",\"1\",\"0\"],\n",
        "  [\"1\",\"1\",\"0\",\"0\",\"0\"],\n",
        "  [\"0\",\"0\",\"0\",\"0\",\"0\"]\n",
        "]\n",
        "\n",
        "grid2 = [\n",
        "  [\"1\",\"1\",\"0\",\"0\",\"0\"],\n",
        "  [\"1\",\"1\",\"0\",\"0\",\"0\"],\n",
        "  [\"0\",\"0\",\"1\",\"0\",\"0\"],\n",
        "  [\"0\",\"0\",\"0\",\"1\",\"1\"]\n",
        "]"
      ],
      "metadata": {
        "id": "SC1sKqT-0OzI"
      },
      "execution_count": 53,
      "outputs": []
    },
    {
      "cell_type": "code",
      "source": [
        "cnt_island(grid2)"
      ],
      "metadata": {
        "colab": {
          "base_uri": "https://localhost:8080/"
        },
        "id": "RECQiZX469uk",
        "outputId": "1737b8b5-18f9-4148-bcad-49aea1f01209"
      },
      "execution_count": 55,
      "outputs": [
        {
          "output_type": "execute_result",
          "data": {
            "text/plain": [
              "([['*', '*', '0', '0', '0'],\n",
              "  ['*', '*', '0', '0', '0'],\n",
              "  ['0', '0', '*', '0', '0'],\n",
              "  ['0', '0', '0', '*', '*']],\n",
              " 7)"
            ]
          },
          "metadata": {},
          "execution_count": 55
        }
      ]
    },
    {
      "cell_type": "code",
      "source": [
        "[['#', '#', '#', '#', '0'], \n",
        " ['1', '1', '0', '1', '0'], \n",
        " ['1', '1', '0', '0', '0'], \n",
        " ['0', '0', '0', '0', '0']]\n",
        "\n",
        "\n",
        "\n",
        "[['#', '#', '#', '#', '0'], \n",
        " ['#', '#', '0', '#', '0'], \n",
        " ['1', '1', '0', '0', '0'], \n",
        " ['0', '0', '0', '0', '0']]\n",
        "\n",
        "\n",
        "\n",
        "[['#', '#', '#', '#', '0'], \n",
        " ['#', '#', '0', '#', '0'], \n",
        " ['#', '#', '0', '0', '0'], \n",
        " ['0', '0', '0', '0', '0']]"
      ],
      "metadata": {
        "id": "A36yiNe068X2"
      },
      "execution_count": null,
      "outputs": []
    },
    {
      "cell_type": "code",
      "source": [
        "grid2 = [\n",
        "  [\"1\",\"1\",\"0\",\"0\",\"0\"],\n",
        "  [\"1\",\"1\",\"0\",\"0\",\"0\"],\n",
        "  [\"0\",\"0\",\"1\",\"0\",\"0\"],\n",
        "  [\"0\",\"0\",\"0\",\"1\",\"1\"]\n",
        "]\n",
        "\n",
        "def numIslands(grid):\n",
        "    cnt = 0\n",
        "    \n",
        "    def sink(row, col):\n",
        "        grid[row][col] = \"0\"\n",
        "\n",
        "        for r, c in [\n",
        "            [row, col - 1],\n",
        "            [row, col + 1],\n",
        "            [row - 1, col],\n",
        "            [row + 1, col],\n",
        "        ]:\n",
        "            if 0 <= r < len(grid) and 0 <= c < len(grid[r]): #범위지정\n",
        "                if grid[r][c] == \"1\":\n",
        "                    sink(r, c)\n",
        "\n",
        "    for i in range(len(grid)):\n",
        "        for j in range(len(grid[i])):\n",
        "            if grid[i][j] == \"1\":\n",
        "                cnt += 1\n",
        "                #grid[r][c] = '#'\n",
        "                sink(i, j)\n",
        "    return cnt"
      ],
      "metadata": {
        "id": "FU15AvLv4nsx"
      },
      "execution_count": 58,
      "outputs": []
    },
    {
      "cell_type": "code",
      "source": [
        "numIslands(grid2)"
      ],
      "metadata": {
        "colab": {
          "base_uri": "https://localhost:8080/"
        },
        "id": "KdbeSi_C3NI_",
        "outputId": "2eeb71e9-4703-4da6-e2ca-1fc3054ee51a"
      },
      "execution_count": 59,
      "outputs": [
        {
          "output_type": "execute_result",
          "data": {
            "text/plain": [
              "3"
            ]
          },
          "metadata": {},
          "execution_count": 59
        }
      ]
    },
    {
      "cell_type": "code",
      "source": [
        "def numIslands(grid) -> int:\n",
        "    def dfs(i, j):\n",
        "        # 더 이상 땅이 아닌 경우 종료\n",
        "        if i < 0 or i >= len(grid) or \\\n",
        "                j < 0 or j >= len(grid[0]) or \\\n",
        "                grid[i][j] != '1':\n",
        "            return \n",
        "\n",
        "        grid[i][j] = 0\n",
        "\n",
        "        # 동서남북 탐색\n",
        "        dfs(i + 1, j)\n",
        "        dfs(i - 1, j)\n",
        "        dfs(i, j + 1)\n",
        "        dfs(i, j - 1)\n",
        "\n",
        "    count = 0\n",
        "    for i in range(len(grid)):\n",
        "        for j in range(len(grid[0])):\n",
        "            if grid[i][j] == '1':\n",
        "                dfs(i, j)\n",
        "                # 모든 육지 탐색 후 카운트 1 증가\n",
        "                count += 1\n",
        "    return count"
      ],
      "metadata": {
        "id": "lKmmxD4K7Trg"
      },
      "execution_count": 35,
      "outputs": []
    },
    {
      "cell_type": "markdown",
      "source": [
        "# 1. 2차원배열 <-> Graph 1:1 대응이 가능하다.\n",
        "\n",
        "# 2. DFS 사용할 때 상하좌우로 봐서 탐색을 진행하는데, 만약 조건에 부합한다면 가라앉힌다. (제거한다)\n",
        "\n",
        "## = 방문노드 처리를 한다.\n",
        "\n",
        "끘\n"
      ],
      "metadata": {
        "id": "AFW5PV7-BTed"
      }
    },
    {
      "cell_type": "markdown",
      "source": [
        "# DFS = 재귀 or Stack\n",
        "\n",
        "# BFS = Queue"
      ],
      "metadata": {
        "id": "5URoNwOgCg-G"
      }
    }
  ]
}