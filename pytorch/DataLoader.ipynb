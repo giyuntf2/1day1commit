{
  "nbformat": 4,
  "nbformat_minor": 0,
  "metadata": {
    "colab": {
      "provenance": [],
      "authorship_tag": "ABX9TyPNa1asIBeME5uSRQirX19S",
      "include_colab_link": true
    },
    "kernelspec": {
      "name": "python3",
      "display_name": "Python 3"
    },
    "language_info": {
      "name": "python"
    },
    "accelerator": "GPU"
  },
  "cells": [
    {
      "cell_type": "markdown",
      "metadata": {
        "id": "view-in-github",
        "colab_type": "text"
      },
      "source": [
        "<a href=\"https://colab.research.google.com/github/giyuntf2/1day1commit/blob/main/pytorch/DataLoader.ipynb\" target=\"_parent\"><img src=\"https://colab.research.google.com/assets/colab-badge.svg\" alt=\"Open In Colab\"/></a>"
      ]
    },
    {
      "cell_type": "markdown",
      "source": [
        "# Data Load\n",
        "\n",
        "Dataset과 DataLoader를 제공하고, 이를 사용하면 '미니 배치 학습', '데이터 셔플', '병렬 처리'까지 간단히 수행이 가능하다.\n",
        "\n",
        "사용 방법은 Dataset을 정의하고 DataLoader에 전달하는 것이다.\n",
        "\n",
        "처음에는 \n",
        "Input : Tensor,\n",
        "Ouptut : Dataset 형태로 변환해주는 TensorDataset을 사용"
      ],
      "metadata": {
        "id": "Z6-Nn-kVejX-"
      }
    },
    {
      "cell_type": "code",
      "source": [
        "import numpy as np\n",
        "import torch\n",
        "import torch.nn as nn\n",
        "import torch.nn.functional as F"
      ],
      "metadata": {
        "id": "0kTJ4yHDgT3b"
      },
      "execution_count": 32,
      "outputs": []
    },
    {
      "cell_type": "code",
      "source": [
        "# TensorDataset, DataLoader 임포트\n",
        "from torch.utils.data import TensorDataset, DataLoader, Dataset"
      ],
      "metadata": {
        "id": "bTBvD7aOgT00"
      },
      "execution_count": 37,
      "outputs": []
    },
    {
      "cell_type": "code",
      "source": [
        "#cuda 선언\n",
        "if torch.cuda.is_available():\n",
        "    torch.set_default_tensor_type(torch.cuda.FloatTensor)\n",
        "    print(\"Using cuda :\", torch.cuda.get_device_name(0))\n",
        "\n",
        "torch.device('cuda' if torch.cuda.is_available() else 'cpu')"
      ],
      "metadata": {
        "colab": {
          "base_uri": "https://localhost:8080/"
        },
        "id": "B8_nHrgthUuM",
        "outputId": "88f79d04-23a1-429b-ce3b-4e935ab99659"
      },
      "execution_count": 20,
      "outputs": [
        {
          "output_type": "stream",
          "name": "stdout",
          "text": [
            "Using cuda : Tesla P100-PCIE-16GB\n"
          ]
        },
        {
          "output_type": "execute_result",
          "data": {
            "text/plain": [
              "device(type='cuda')"
            ]
          },
          "metadata": {},
          "execution_count": 20
        }
      ]
    },
    {
      "cell_type": "markdown",
      "source": [
        "# 데이터 함수로 불러오기\n"
      ],
      "metadata": {
        "id": "aBmq51Phl0-J"
      }
    },
    {
      "cell_type": "code",
      "source": [
        "train_images = np.random.randint(256, size=(20, 32, 32, 3)) #갯수, 이미지크기, 채널스\n",
        "train_labels = np.random.randint(2, size=(20, 1))\n",
        "\n",
        "print(train_images.shape, train_labels.shape)"
      ],
      "metadata": {
        "colab": {
          "base_uri": "https://localhost:8080/"
        },
        "id": "_jJpCTEamyS4",
        "outputId": "b1904a68-9665-493c-87c8-df2c079d7970"
      },
      "execution_count": 33,
      "outputs": [
        {
          "output_type": "stream",
          "name": "stdout",
          "text": [
            "(20, 32, 32, 3) (20, 1)\n"
          ]
        }
      ]
    },
    {
      "cell_type": "code",
      "source": [
        "class TensorData(Dataset):\n",
        "    # 외부에 있는 데이터를 가져오기 위해 외부에서 데이터가 들어올 수 있도록, x_data, y_data 변수를 지정\n",
        "    def __init__(self, x_data, y_data):\n",
        "        #들어온 x는 tensor형태로 변환\n",
        "        self.x_data = torch.FloatTensor(x_data)\n",
        "        # tensor data의 형태는 (배치사이즈, 채널사이즈, 이미지 너비, 높이)의 형태임\n",
        "        # 따라서 들어온 데이터의 형식을 permute함수를 활용하여 바꾸어주어야함.\n",
        "        self.x_data = self.x_data.permute(0,3,1,2)  # 인덱스 번호로 바꾸어주는 것 # 이미지 개수, 채널 수, 이미지 너비, 높이\n",
        "        self.y_data = torch.LongTensor(y_data) # float tensor / long tensor 로 숫자 속성을 정해줄 수 있음\n",
        "        self.len = self.y_data.shape[0]\n",
        "\n",
        "    # x,y를 튜플형태로 바깥으로 내보내기\n",
        "    def __getitem__(self, index):\n",
        "        return self.x_data[index], self.y_data[index]\n",
        "\n",
        "    def __len__(self):\n",
        "        return self.len"
      ],
      "metadata": {
        "id": "OnUpDGkLojpk"
      },
      "execution_count": 58,
      "outputs": []
    },
    {
      "cell_type": "code",
      "source": [
        "train_data = TensorData(train_images, train_labels)\n",
        "train_loader = DataLoader(train_data, batch_size=10, shuffle=True, generator=torch.Generator(device='cuda'))"
      ],
      "metadata": {
        "id": "DKE8RKp3n-oj"
      },
      "execution_count": 63,
      "outputs": []
    },
    {
      "cell_type": "code",
      "source": [
        "train_data[0][0].size()"
      ],
      "metadata": {
        "colab": {
          "base_uri": "https://localhost:8080/"
        },
        "id": "sh3DcSIUoMvK",
        "outputId": "a4b757e3-bcd2-4b3c-b0b3-cb24de205f77"
      },
      "execution_count": 64,
      "outputs": [
        {
          "output_type": "execute_result",
          "data": {
            "text/plain": [
              "torch.Size([3, 32, 32])"
            ]
          },
          "metadata": {},
          "execution_count": 64
        }
      ]
    },
    {
      "cell_type": "code",
      "source": [
        "dataiter = iter(train_loader)\n",
        "images, labels = dataiter.next()\n",
        "images.size()"
      ],
      "metadata": {
        "colab": {
          "base_uri": "https://localhost:8080/"
        },
        "id": "nXnpfSy8oyMl",
        "outputId": "ca3a8f95-1925-4334-b10c-47af4f99771b"
      },
      "execution_count": 65,
      "outputs": [
        {
          "output_type": "execute_result",
          "data": {
            "text/plain": [
              "torch.Size([10, 3, 32, 32])"
            ]
          },
          "metadata": {},
          "execution_count": 65
        }
      ]
    },
    {
      "cell_type": "code",
      "source": [
        "\"\"\"\n",
        "DataLoader(dataset, batch_size=1, shuffle=False, sampler=None,\n",
        "           batch_sampler=None, num_workers=0, collate_fn=None,\n",
        "           pin_memory=False, drop_last=False, timeout=0,\n",
        "           worker_init_fn=None)\n",
        "\"\"\""
      ],
      "metadata": {
        "id": "pNLd6QCKmY4E"
      },
      "execution_count": null,
      "outputs": []
    },
    {
      "cell_type": "code",
      "execution_count": 21,
      "metadata": {
        "id": "hF7IRTtsqXP4"
      },
      "outputs": [],
      "source": [
        "x_train  =  torch.cuda.FloatTensor([[73,  80,  75], \n",
        "                               [93,  88,  93], \n",
        "                               [89,  91,  90], \n",
        "                               [96,  98,  100],   \n",
        "                               [73,  66,  70]])\n",
        "\n",
        "y_train = torch.cuda.FloatTensor([[152], [185], [180], [196], [142]])"
      ]
    },
    {
      "cell_type": "code",
      "source": [
        "#TensorDataset의 입력으로 사용하고 dataset으로 저장\n",
        "\n",
        "dataset = TensorDataset(x_train, y_train)"
      ],
      "metadata": {
        "id": "d5uh2By-gn3q"
      },
      "execution_count": 22,
      "outputs": []
    },
    {
      "cell_type": "markdown",
      "source": [
        "# Dataset 선언 후 DataLoader\n",
        "\n",
        "pytorch의 dataset을 만들었다면, DataLoader 사용이 가능하다. \n",
        "\n",
        "DataLoader는 기본적으로 2개의 인자를 입력받는다. 하나는 DataSet, Mini-Batch의 Size이다. 이때, Mini-Batch의 크기는 통상적으로 2의 배수를 사용한다. \n",
        "\n",
        "그리고, shuffle=True를 선택하면 Epoch마다 데이터를 섞어서 데이터가 학습되는 순서를 바꾼다."
      ],
      "metadata": {
        "id": "UCVul1hvhvbj"
      }
    },
    {
      "cell_type": "code",
      "source": [
        "dataloader = DataLoader(dataset, batch_size=2, shuffle=True, generator=torch.Generator(device='cuda'))\n",
        "\n",
        "model = nn.Linear(3,1)\n",
        "optimizer = torch.optim.SGD(model.parameters(), lr=1e-5) \n"
      ],
      "metadata": {
        "id": "7JwX2omIiB6p"
      },
      "execution_count": 23,
      "outputs": []
    },
    {
      "cell_type": "code",
      "source": [
        "epochs = 20\n",
        "\n",
        "for epoch in range(epochs + 1):\n",
        "    for batch_idx, samples in enumerate(dataloader):\n",
        "        #print(batch_idx)\n",
        "        #print(samples)\n",
        "\n",
        "        x_train, y_train = samples\n",
        "\n",
        "        prediction = model(x_train)\n",
        "\n",
        "        cost = F.mse_loss(prediction, y_train)\n",
        "        print(cost.item())\n",
        "        optimizer.zero_grad()\n",
        "        cost.backward()\n",
        "        optimizer.step()\n",
        "\n",
        "        print('Epoch {:4d}/{} batch {}/{} cost: {:.6f}'.format(epoch, epochs, batch_idx+1, len(dataloader), cost.item()))"
      ],
      "metadata": {
        "colab": {
          "base_uri": "https://localhost:8080/"
        },
        "id": "ngUQq4sqjgE6",
        "outputId": "6131a8cf-c587-4edf-c3ad-35c95ce8d2de"
      },
      "execution_count": 27,
      "outputs": [
        {
          "output_type": "stream",
          "name": "stdout",
          "text": [
            "2.3596863746643066\n",
            "Epoch    0/20 batch 1/3 cost: 2.359686\n",
            "0.7096964716911316\n",
            "Epoch    0/20 batch 2/3 cost: 0.709696\n",
            "5.7485504150390625\n",
            "Epoch    0/20 batch 3/3 cost: 5.748550\n",
            "2.2139174938201904\n",
            "Epoch    1/20 batch 1/3 cost: 2.213917\n",
            "1.7395894527435303\n",
            "Epoch    1/20 batch 2/3 cost: 1.739589\n",
            "1.8002550601959229\n",
            "Epoch    1/20 batch 3/3 cost: 1.800255\n",
            "1.9844841957092285\n",
            "Epoch    2/20 batch 1/3 cost: 1.984484\n",
            "2.5380349159240723\n",
            "Epoch    2/20 batch 2/3 cost: 2.538035\n",
            "1.0252736806869507\n",
            "Epoch    2/20 batch 3/3 cost: 1.025274\n",
            "2.8707170486450195\n",
            "Epoch    3/20 batch 1/3 cost: 2.870717\n",
            "1.6710705757141113\n",
            "Epoch    3/20 batch 2/3 cost: 1.671071\n",
            "1.3847230672836304\n",
            "Epoch    3/20 batch 3/3 cost: 1.384723\n",
            "2.9578652381896973\n",
            "Epoch    4/20 batch 1/3 cost: 2.957865\n",
            "1.9044151306152344\n",
            "Epoch    4/20 batch 2/3 cost: 1.904415\n",
            "0.7984127402305603\n",
            "Epoch    4/20 batch 3/3 cost: 0.798413\n",
            "2.9157533645629883\n",
            "Epoch    5/20 batch 1/3 cost: 2.915753\n",
            "1.8844114542007446\n",
            "Epoch    5/20 batch 2/3 cost: 1.884411\n",
            "0.8191885352134705\n",
            "Epoch    5/20 batch 3/3 cost: 0.819189\n",
            "2.9063422679901123\n",
            "Epoch    6/20 batch 1/3 cost: 2.906342\n",
            "0.6696290969848633\n",
            "Epoch    6/20 batch 2/3 cost: 0.669629\n",
            "4.487136363983154\n",
            "Epoch    6/20 batch 3/3 cost: 4.487136\n",
            "2.478074550628662\n",
            "Epoch    7/20 batch 1/3 cost: 2.478075\n",
            "1.6659214496612549\n",
            "Epoch    7/20 batch 2/3 cost: 1.665921\n",
            "1.6520187854766846\n",
            "Epoch    7/20 batch 3/3 cost: 1.652019\n",
            "2.0055112838745117\n",
            "Epoch    8/20 batch 1/3 cost: 2.005511\n",
            "0.9087952375411987\n",
            "Epoch    8/20 batch 2/3 cost: 0.908795\n",
            "5.375568389892578\n",
            "Epoch    8/20 batch 3/3 cost: 5.375568\n",
            "2.1220004558563232\n",
            "Epoch    9/20 batch 1/3 cost: 2.122000\n",
            "3.9184226989746094\n",
            "Epoch    9/20 batch 2/3 cost: 3.918423\n",
            "2.288754940032959\n",
            "Epoch    9/20 batch 3/3 cost: 2.288755\n",
            "0.622273862361908\n",
            "Epoch   10/20 batch 1/3 cost: 0.622274\n",
            "2.9843037128448486\n",
            "Epoch   10/20 batch 2/3 cost: 2.984304\n",
            "3.175515651702881\n",
            "Epoch   10/20 batch 3/3 cost: 3.175516\n",
            "2.276810646057129\n",
            "Epoch   11/20 batch 1/3 cost: 2.276811\n",
            "1.7819814682006836\n",
            "Epoch   11/20 batch 2/3 cost: 1.781981\n",
            "1.9506374597549438\n",
            "Epoch   11/20 batch 3/3 cost: 1.950637\n",
            "2.6041345596313477\n",
            "Epoch   12/20 batch 1/3 cost: 2.604135\n",
            "0.9218750596046448\n",
            "Epoch   12/20 batch 2/3 cost: 0.921875\n",
            "4.020534038543701\n",
            "Epoch   12/20 batch 3/3 cost: 4.020534\n",
            "1.6857047080993652\n",
            "Epoch   13/20 batch 1/3 cost: 1.685705\n",
            "4.002490520477295\n",
            "Epoch   13/20 batch 2/3 cost: 4.002491\n",
            "1.4473261833190918\n",
            "Epoch   13/20 batch 3/3 cost: 1.447326\n",
            "0.2558896541595459\n",
            "Epoch   14/20 batch 1/3 cost: 0.255890\n",
            "2.654663324356079\n",
            "Epoch   14/20 batch 2/3 cost: 2.654663\n",
            "4.57940149307251\n",
            "Epoch   14/20 batch 3/3 cost: 4.579401\n",
            "2.4096102714538574\n",
            "Epoch   15/20 batch 1/3 cost: 2.409610\n",
            "2.6441357135772705\n",
            "Epoch   15/20 batch 2/3 cost: 2.644136\n",
            "2.390509605407715\n",
            "Epoch   15/20 batch 3/3 cost: 2.390510\n",
            "3.082192897796631\n",
            "Epoch   16/20 batch 1/3 cost: 3.082193\n",
            "2.5625014305114746\n",
            "Epoch   16/20 batch 2/3 cost: 2.562501\n",
            "2.1944994926452637\n",
            "Epoch   16/20 batch 3/3 cost: 2.194499\n",
            "3.1941919326782227\n",
            "Epoch   17/20 batch 1/3 cost: 3.194192\n",
            "1.8445394039154053\n",
            "Epoch   17/20 batch 2/3 cost: 1.844539\n",
            "3.5148239135742188\n",
            "Epoch   17/20 batch 3/3 cost: 3.514824\n",
            "2.628514051437378\n",
            "Epoch   18/20 batch 1/3 cost: 2.628514\n",
            "2.354461669921875\n",
            "Epoch   18/20 batch 2/3 cost: 2.354462\n",
            "2.7690532207489014\n",
            "Epoch   18/20 batch 3/3 cost: 2.769053\n",
            "2.3546605110168457\n",
            "Epoch   19/20 batch 1/3 cost: 2.354661\n",
            "1.8405789136886597\n",
            "Epoch   19/20 batch 2/3 cost: 1.840579\n",
            "1.7549699544906616\n",
            "Epoch   19/20 batch 3/3 cost: 1.754970\n",
            "0.5090119242668152\n",
            "Epoch   20/20 batch 1/3 cost: 0.509012\n",
            "2.9915685653686523\n",
            "Epoch   20/20 batch 2/3 cost: 2.991569\n",
            "3.2158312797546387\n",
            "Epoch   20/20 batch 3/3 cost: 3.215831\n"
          ]
        }
      ]
    },
    {
      "cell_type": "code",
      "source": [
        "new_var = torch.cuda.FloatTensor([[73, 80, 75]])\n",
        "pred_y = model(new_var)\n",
        "\n",
        "print(pred_y)"
      ],
      "metadata": {
        "colab": {
          "base_uri": "https://localhost:8080/"
        },
        "id": "erzNlAF7k_qV",
        "outputId": "8f762e94-2fbe-4b4a-afdd-c9878e641ef9"
      },
      "execution_count": 30,
      "outputs": [
        {
          "output_type": "stream",
          "name": "stdout",
          "text": [
            "tensor([[153.5952]], grad_fn=<AddmmBackward0>)\n"
          ]
        }
      ]
    },
    {
      "cell_type": "markdown",
      "source": [
        "# Mnist 활용\n",
        "\n",
        "image(1, 28, 28)\n",
        "\n",
        "label = 10개\n",
        "\n",
        "- root는 학습 / 테스트 데이터가 저장되는 경로\n",
        "- train은 학습용 또는 테스트용 데이터셋 여부 지정\n",
        "- download=True는 root에 데이터가 없는 경우 인터넷에서 다운로드\n",
        "- transform과 target_transform은 feature와 label의 transform을 지정"
      ],
      "metadata": {
        "id": "oOL_mJ5DpBlO"
      }
    },
    {
      "cell_type": "code",
      "source": [
        "from torchvision import datasets\n",
        "from torchvision.transforms import ToTensor\n",
        "import matplotlib.pyplot as plt"
      ],
      "metadata": {
        "id": "zmgsDgNdpEsq"
      },
      "execution_count": 66,
      "outputs": []
    },
    {
      "cell_type": "code",
      "source": [
        "training_data = datasets.FashionMNIST(\n",
        "    root=\"data\",\n",
        "    train=True,\n",
        "    download=True,\n",
        "    transform=ToTensor()\n",
        ")\n",
        "\n",
        "test_data = datasets.FashionMNIST(\n",
        "    root=\"data\",\n",
        "    train=False,\n",
        "    download=True,\n",
        "    transform=ToTensor()\n",
        ")"
      ],
      "metadata": {
        "id": "PLBNxNL-pPir"
      },
      "execution_count": 69,
      "outputs": []
    },
    {
      "cell_type": "code",
      "source": [
        "labels_map = {\n",
        "    0: \"T-Shirt\",\n",
        "    1: \"Trouser\",\n",
        "    2: \"Pullover\",\n",
        "    3: \"Dress\",\n",
        "    4: \"Coat\",\n",
        "    5: \"Sandal\",\n",
        "    6: \"Shirt\",\n",
        "    7: \"Sneaker\",\n",
        "    8: \"Bag\",\n",
        "    9: \"Ankle Boot\",\n",
        "}"
      ],
      "metadata": {
        "id": "dL9ENPoup90J"
      },
      "execution_count": 70,
      "outputs": []
    },
    {
      "cell_type": "code",
      "source": [
        "figure = plt.figure(figsize=(8, 8))\n",
        "cols, rows = 3, 3\n",
        "for i in range(1, cols * rows + 1):\n",
        "    sample_idx = torch.randint(len(training_data), size=(1,)).item()\n",
        "    img, label = training_data[sample_idx]\n",
        "    figure.add_subplot(rows, cols, i)\n",
        "    plt.title(labels_map[label])\n",
        "    plt.axis(\"off\")\n",
        "    plt.imshow(img.squeeze(), cmap=\"gray\")\n",
        "plt.show()"
      ],
      "metadata": {
        "colab": {
          "base_uri": "https://localhost:8080/",
          "height": 482
        },
        "id": "vyNH503Tp-QQ",
        "outputId": "a4536da9-134f-4fd8-b096-63bc61fae9c1"
      },
      "execution_count": 71,
      "outputs": [
        {
          "output_type": "display_data",
          "data": {
            "text/plain": [
              "<Figure size 576x576 with 9 Axes>"
            ],
            "image/png": "[encoded data removed]"
          },
          "metadata": {
            "needs_background": "light"
          }
        }
      ]
    },
    {
      "cell_type": "markdown",
      "source": [
        "__getitem__ 함수는 주어진 인덱스 idx 에 해당하는 샘플을 데이터셋에서 불러오고 반환. 인덱스를 기반으로, 디스크에서 이미지의 위치를 식별하고, read_image 를 사용하여 이미지를 텐서로 변환하고, self.img_labels 의 csv 데이터로부터 해당하는 정답(label)을 가져오고, (해당하는 경우) 변형(transform) 함수들을 호출한 뒤, 텐서 이미지와 라벨을 Python 사전(dict)형으로 반환."
      ],
      "metadata": {
        "id": "ltq_lNIZrCWV"
      }
    },
    {
      "cell_type": "code",
      "source": [
        "import os\n",
        "import pandas as pd\n",
        "from torchvision.io import read_image\n",
        "\n",
        "class CustomImageDataset(Dataset):\n",
        "    def __init__(self, annotations_file, img_dir, transform=None, target_transform=None):\n",
        "        self.img_labels = pd.read_csv(annotations_file, names=['file_name', 'lable'])\n",
        "        self.img_dir = img_dir\n",
        "        self.transform = transform\n",
        "        self.target_transfrom = target_transform\n",
        "\n",
        "    def len(self):\n",
        "        return len(self.img_labels)\n",
        "\n",
        "    def __getitem__(self, idx):\n",
        "        img_path = os.path.join(self.img_dir, self.img_labels.iloc[idx, 0])\n",
        "        image = read_image(img_path)\n",
        "        label = self.img_labels.iloc[idx, 1]\n",
        "        if self.transform:\n",
        "            image = self.transform(image)\n",
        "        if self.target_transform:\n",
        "            label = self.target_transform(label)\n",
        "        return image, label"
      ],
      "metadata": {
        "id": "XrFhpjYXqM38"
      },
      "execution_count": 73,
      "outputs": []
    },
    {
      "cell_type": "code",
      "source": [
        "train_dataloader = DataLoader(training_data, batch_size=64, shuffle=True, generator=torch.Generator(device='cuda'))\n",
        "test_dataloader = DataLoader(test_data, batch_size=64, shuffle=True, generator=torch.Generator(device='cuda'))"
      ],
      "metadata": {
        "id": "QzOymCrVrHGw"
      },
      "execution_count": 75,
      "outputs": []
    },
    {
      "cell_type": "code",
      "source": [
        "train_features, train_labels = next(iter(train_dataloader))\n",
        "print(f\"Feature batch shape: {train_features.size()}\")\n",
        "print(f\"Labels batch shape: {train_labels.size()}\")\n",
        "img = train_features[0].squeeze()\n",
        "label = train_labels[0]\n",
        "plt.imshow(img, cmap=\"gray\")\n",
        "plt.show()\n",
        "print(f\"Label: {label}\")"
      ],
      "metadata": {
        "colab": {
          "base_uri": "https://localhost:8080/",
          "height": 317
        },
        "id": "z6qes72HrZic",
        "outputId": "df79cd94-33cd-4ca8-f0e6-f4e333a0de38"
      },
      "execution_count": 78,
      "outputs": [
        {
          "output_type": "stream",
          "name": "stdout",
          "text": [
            "Feature batch shape: torch.Size([64, 1, 28, 28])\n",
            "Labels batch shape: torch.Size([64])\n"
          ]
        },
        {
          "output_type": "display_data",
          "data": {
            "text/plain": [
              "<Figure size 432x288 with 1 Axes>"
            ],
            "image/png": "[encoded data removed]"
          },
          "metadata": {
            "needs_background": "light"
          }
        },
        {
          "output_type": "stream",
          "name": "stdout",
          "text": [
            "Label: 8\n"
          ]
        }
      ]
    }
  ]
}