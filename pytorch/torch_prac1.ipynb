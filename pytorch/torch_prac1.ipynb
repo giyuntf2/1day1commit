{
  "nbformat": 4,
  "nbformat_minor": 0,
  "metadata": {
    "colab": {
      "provenance": [],
      "machine_shape": "hm",
      "collapsed_sections": [],
      "mount_file_id": "1ilQBVxGQjvuR5-Q0UEmrMgApto20DdZE",
      "authorship_tag": "ABX9TyMJfH8DhY7MSjZIFL1Qb+za",
      "include_colab_link": true
    },
    "kernelspec": {
      "name": "python3",
      "display_name": "Python 3"
    },
    "language_info": {
      "name": "python"
    },
    "accelerator": "GPU"
  },
  "cells": [
    {
      "cell_type": "markdown",
      "metadata": {
        "id": "view-in-github",
        "colab_type": "text"
      },
      "source": [
        "<a href=\"https://colab.research.google.com/github/giyuntf2/1day1commit/blob/main/pytorch/torch_prac1.ipynb\" target=\"_parent\"><img src=\"https://colab.research.google.com/assets/colab-badge.svg\" alt=\"Open In Colab\"/></a>"
      ]
    },
    {
      "cell_type": "code",
      "source": [
        "import torch\n",
        "import torch.nn as nn\n",
        "import pandas as pd\n",
        "import matplotlib.pyplot as plt\n",
        "from torch.utils.data import Dataset"
      ],
      "metadata": {
        "id": "y9P85ZHl-OgH"
      },
      "execution_count": null,
      "outputs": []
    },
    {
      "cell_type": "markdown",
      "source": [
        "# LOAD MNIST DATASET"
      ],
      "metadata": {
        "id": "SX3eaQg_DECw"
      }
    },
    {
      "cell_type": "code",
      "source": [
        "train_mnist_dataset = MnistDataset('/content/drive/MyDrive/Colab Notebooks/pytorch_prac/source2/mnist_train.csv')\n",
        "test_mnist_dataset = MnistDataset('/content/drive/MyDrive/Colab Notebooks/pytorch_prac/source2/mnist_test.csv')"
      ],
      "metadata": {
        "id": "7N5itM_1-M_z"
      },
      "execution_count": null,
      "outputs": []
    },
    {
      "cell_type": "code",
      "source": [
        "class MnistDataset(Dataset):\n",
        "    \n",
        "    def __init__(self, csv_file):\n",
        "        self.data_df = pd.read_csv(csv_file, header=None)\n",
        "        pass\n",
        "    \n",
        "    def __len__(self):\n",
        "        return len(self.data_df)\n",
        "    \n",
        "    def __getitem__(self, index):\n",
        "        label = self.data_df.iloc[index,0]\n",
        "        target = torch.zeros((10))\n",
        "        target[label] = 1.0\n",
        "        \n",
        "        image_values = torch.FloatTensor(self.data_df.iloc[index,1:].values) / 255.0\n",
        "        \n",
        "        return label, image_values, target\n",
        "    \n",
        "    def plot_image(self, index):\n",
        "        img = self.data_df.iloc[index,1:].values.reshape(28,28)\n",
        "        plt.title(\"label = \" + str(self.data_df.iloc[index,0]))\n",
        "        plt.imshow(img, interpolation='none', cmap='Blues')\n",
        "        pass\n",
        "    \n",
        "    pass"
      ],
      "metadata": {
        "id": "jfdztVDY-k80"
      },
      "execution_count": null,
      "outputs": []
    },
    {
      "cell_type": "code",
      "source": [
        "#TEST\n",
        "train_mnist_dataset.plot_image(10)"
      ],
      "metadata": {
        "colab": {
          "base_uri": "https://localhost:8080/",
          "height": 281
        },
        "id": "D7bQASiX_H7T",
        "outputId": "01bc4028-f105-4f6d-8ce2-4beb7a68ce0d"
      },
      "execution_count": null,
      "outputs": [
        {
          "output_type": "display_data",
          "data": {
            "text/plain": [
              "<Figure size 432x288 with 1 Axes>"
            ],
            "image/png": "[encoded data removed]"
          },
          "metadata": {
            "needs_background": "light"
          }
        }
      ]
    },
    {
      "cell_type": "markdown",
      "source": [
        "# FIRST TRY"
      ],
      "metadata": {
        "id": "M9P9rnMODLXS"
      }
    },
    {
      "cell_type": "code",
      "source": [
        "class Classifier(nn.Module):\n",
        "    def __init__(self):\n",
        "        super().__init__()\n",
        "\n",
        "        self.model = nn.Sequential(\n",
        "            nn.Linear(784, 200),\n",
        "            nn.Sigmoid(),\n",
        "            nn.Linear(200, 10),\n",
        "            nn.Sigmoid()\n",
        "        )\n",
        "\n",
        "        self.loss_function = nn.MSELoss()\n",
        "\n",
        "        self.optimiser = torch.optim.SGD(self.parameters(), lr=0.01)\n",
        "\n",
        "        self.trainer_count = 0\n",
        "        self.progress = []\n",
        "\n",
        "        pass\n",
        "\n",
        "    def forward(self, inputs):\n",
        "        return self.model(inputs)\n",
        "\n",
        "    def train(self, inputs, targets):\n",
        "        outputs = self.forward(inputs) \n",
        "        loss = self.loss_function(outputs, targets) \n",
        "\n",
        "        self.optimiser.zero_grad()\n",
        "        loss.backward()\n",
        "        self.optimiser.step()\n",
        "\n",
        "        self.trainer_count += 1\n",
        "\n",
        "        if (self.trainer_count % 10 == 0):\n",
        "            self.progress.append(loss.item())\n",
        "            \n",
        "        if (self.trainer_count % 10000 == 0):\n",
        "            print(f\"counter = {self.trainer_count}\")\n"
      ],
      "metadata": {
        "id": "yD0oAQX0NWdl"
      },
      "execution_count": 66,
      "outputs": []
    },
    {
      "cell_type": "code",
      "source": [
        "%%time \n",
        "C = Classifier()\n",
        "\n",
        "epochs = 4\n",
        "\n",
        "for i in range(epochs):\n",
        "    print('training epoch', i+1, \"of\", epochs)\n",
        "    for label, image_data_tensor, target_tensor in train_mnist_dataset:\n",
        "        C.train(image_data_tensor, target_tensor)\n",
        "        pass\n",
        "    pass"
      ],
      "metadata": {
        "colab": {
          "base_uri": "https://localhost:8080/"
        },
        "id": "Vt_rPUdX3EnB",
        "outputId": "336a7451-129a-406f-ed1d-86a5b6be7166"
      },
      "execution_count": 67,
      "outputs": [
        {
          "output_type": "stream",
          "name": "stdout",
          "text": [
            "training epoch 1 of 4\n",
            "counter = 10000\n",
            "counter = 20000\n",
            "counter = 30000\n",
            "counter = 40000\n",
            "counter = 50000\n",
            "counter = 60000\n",
            "training epoch 2 of 4\n",
            "counter = 70000\n",
            "counter = 80000\n",
            "counter = 90000\n",
            "counter = 100000\n",
            "counter = 110000\n",
            "counter = 120000\n",
            "training epoch 3 of 4\n",
            "counter = 130000\n",
            "counter = 140000\n",
            "counter = 150000\n",
            "counter = 160000\n",
            "counter = 170000\n",
            "counter = 180000\n",
            "training epoch 4 of 4\n",
            "counter = 190000\n",
            "counter = 200000\n",
            "counter = 210000\n",
            "counter = 220000\n",
            "counter = 230000\n",
            "counter = 240000\n",
            "CPU times: user 10min 22s, sys: 9.42 s, total: 10min 31s\n",
            "Wall time: 5min 15s\n"
          ]
        }
      ]
    },
    {
      "cell_type": "code",
      "source": [
        "record = 10\n",
        "test_image = test_mnist_dataset[record][1]\n",
        "test_mnist_dataset.plot_image(10)"
      ],
      "metadata": {
        "colab": {
          "base_uri": "https://localhost:8080/",
          "height": 281
        },
        "id": "I4Alw1kDB1Or",
        "outputId": "610d0487-9ca0-48da-fdc0-742d486fc4da"
      },
      "execution_count": 68,
      "outputs": [
        {
          "output_type": "display_data",
          "data": {
            "text/plain": [
              "<Figure size 432x288 with 1 Axes>"
            ],
            "image/png": "[encoded data removed]"
          },
          "metadata": {
            "needs_background": "light"
          }
        }
      ]
    },
    {
      "cell_type": "code",
      "source": [
        "output = C.forward(test_image)\n",
        "\n",
        "pd.DataFrame(output.detach().numpy()).plot(kind='bar', legend=False, ylim=(0,1))\n",
        "plt.show()"
      ],
      "metadata": {
        "colab": {
          "base_uri": "https://localhost:8080/",
          "height": 266
        },
        "id": "Vf06pCESCEPK",
        "outputId": "279631bd-9a9a-40ce-f424-1d5b3e145b66"
      },
      "execution_count": 69,
      "outputs": [
        {
          "output_type": "display_data",
          "data": {
            "text/plain": [
              "<Figure size 432x288 with 1 Axes>"
            ],
            "image/png": "[encoded data removed]"
          },
          "metadata": {
            "needs_background": "light"
          }
        }
      ]
    },
    {
      "cell_type": "code",
      "source": [
        "def get_acc(score=0, items=0):\n",
        "    for label, image_data_tensor, target_tensor in test_mnist_dataset:\n",
        "        answer = C.forward(image_data_tensor).detach().numpy()\n",
        "        if (answer.argmax() == label):\n",
        "            score += 1\n",
        "            pass\n",
        "        items += 1\n",
        "\n",
        "    print(score, items, score/items)\n",
        "\n",
        "get_acc()"
      ],
      "metadata": {
        "colab": {
          "base_uri": "https://localhost:8080/"
        },
        "id": "31lxycORLYa-",
        "outputId": "d1acf493-2435-457e-93b2-82733bf223a8"
      },
      "execution_count": 70,
      "outputs": [
        {
          "output_type": "stream",
          "name": "stdout",
          "text": [
            "8807 10000 0.8807\n"
          ]
        }
      ]
    },
    {
      "cell_type": "markdown",
      "source": [
        "# SECOND TRY"
      ],
      "metadata": {
        "id": "YJVv1qW_DSEu"
      }
    },
    {
      "cell_type": "code",
      "source": [
        "class Classifier_LR(nn.Module):\n",
        "    def __init__(self):\n",
        "        super().__init__()\n",
        "        \n",
        "        self.model = nn.Sequential(\n",
        "            nn.Linear(784, 200),\n",
        "            nn.LeakyReLU(0.02),\n",
        "\n",
        "            nn.LayerNorm(200),\n",
        "            \n",
        "            nn.Linear(200, 10),\n",
        "            nn.Sigmoid()\n",
        "        )\n",
        "        \n",
        "        self.loss_function = nn.BCELoss()\n",
        "\n",
        "        self.optimiser = torch.optim.Adam(self.parameters())\n",
        "        \n",
        "        self.trainer_count = 0\n",
        "        self.progress = []\n",
        "\n",
        "        pass\n",
        "    \n",
        "    def forward(self, inputs):\n",
        "        return self.model(inputs)\n",
        "    \n",
        "    \n",
        "    def train(self, inputs, targets):\n",
        "        outputs = self.forward(inputs)\n",
        "        loss = self.loss_function(outputs, targets)\n",
        "\n",
        "        self.optimiser.zero_grad()\n",
        "        loss.backward()\n",
        "        self.optimiser.step()\n",
        "\n",
        "        self.trainer_count += 1\n",
        "\n",
        "        if (self.trainer_count % 10 == 0):\n",
        "            self.progress.append(loss.item())\n",
        "            pass\n",
        "            \n",
        "        if (self.trainer_count % 10000 == 0):\n",
        "            print(f\"counter = {self.trainer_count}\")\n",
        "            pass"
      ],
      "metadata": {
        "id": "V0tEiNqTDRcV"
      },
      "execution_count": 65,
      "outputs": []
    },
    {
      "cell_type": "code",
      "source": [
        "%%time \n",
        "C_LR = Classifier_LR()\n",
        "\n",
        "epochs = 4\n",
        "\n",
        "for i in range(epochs):\n",
        "    print('training epoch', i+1, \"of\", epochs)\n",
        "    for label, image_data_tensor, target_tensor in train_mnist_dataset:\n",
        "        C_LR.train(image_data_tensor, target_tensor)\n",
        "        pass\n",
        "    pass"
      ],
      "metadata": {
        "id": "bInMFpa8EFWN",
        "colab": {
          "base_uri": "https://localhost:8080/"
        },
        "outputId": "45430a3c-b0e9-4036-ddae-f93043a6038b"
      },
      "execution_count": 57,
      "outputs": [
        {
          "output_type": "stream",
          "name": "stdout",
          "text": [
            "training epoch 1 of 4\n",
            "counter = 10000\n",
            "counter = 20000\n",
            "counter = 30000\n",
            "counter = 40000\n",
            "counter = 50000\n",
            "counter = 60000\n",
            "training epoch 2 of 4\n",
            "counter = 70000\n",
            "counter = 80000\n",
            "counter = 90000\n",
            "counter = 100000\n",
            "counter = 110000\n",
            "counter = 120000\n",
            "training epoch 3 of 4\n",
            "counter = 130000\n",
            "counter = 140000\n",
            "counter = 150000\n",
            "counter = 160000\n",
            "counter = 170000\n",
            "counter = 180000\n",
            "training epoch 4 of 4\n",
            "counter = 190000\n",
            "counter = 200000\n",
            "counter = 210000\n",
            "counter = 220000\n",
            "counter = 230000\n",
            "counter = 240000\n",
            "CPU times: user 24min 49s, sys: 26.9 s, total: 25min 16s\n",
            "Wall time: 12min 37s\n"
          ]
        }
      ]
    },
    {
      "cell_type": "code",
      "source": [
        "output = C_LR.forward(test_image)\n",
        "\n",
        "pd.DataFrame(output.detach().numpy()).plot(kind='bar', legend=False, ylim=(0,1))\n",
        "plt.show()"
      ],
      "metadata": {
        "colab": {
          "base_uri": "https://localhost:8080/",
          "height": 266
        },
        "id": "hfNERXCRFcXU",
        "outputId": "ac12cebb-1747-4c8e-f1a0-445b6a47fef6"
      },
      "execution_count": 58,
      "outputs": [
        {
          "output_type": "display_data",
          "data": {
            "text/plain": [
              "<Figure size 432x288 with 1 Axes>"
            ],
            "image/png": "[encoded data removed]"
          },
          "metadata": {
            "needs_background": "light"
          }
        }
      ]
    },
    {
      "cell_type": "code",
      "source": [
        "def get_acc(score=0, items=0):\n",
        "    for label, image_data_tensor, target_tensor in test_mnist_dataset:\n",
        "        answer = C_LR.forward(image_data_tensor).detach().numpy()\n",
        "        if (answer.argmax() == label):\n",
        "            score += 1\n",
        "            pass\n",
        "        items += 1\n",
        "\n",
        "    print(score, items, score/items)\n",
        "\n",
        "get_acc()"
      ],
      "metadata": {
        "colab": {
          "base_uri": "https://localhost:8080/"
        },
        "id": "GFRkIHV3F4c1",
        "outputId": "5734cf97-a6ff-4e81-a930-f5d625a52ec8"
      },
      "execution_count": 59,
      "outputs": [
        {
          "output_type": "stream",
          "name": "stdout",
          "text": [
            "9753 10000 0.9753\n"
          ]
        }
      ]
    }
  ]
}