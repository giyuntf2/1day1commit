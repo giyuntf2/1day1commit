{
  "nbformat": 4,
  "nbformat_minor": 0,
  "metadata": {
    "colab": {
      "provenance": [],
      "authorship_tag": "ABX9TyPDNva3lXsqKloZmUCsZo4g",
      "include_colab_link": true
    },
    "kernelspec": {
      "name": "python3",
      "display_name": "Python 3"
    },
    "language_info": {
      "name": "python"
    },
    "accelerator": "GPU"
  },
  "cells": [
    {
      "cell_type": "markdown",
      "metadata": {
        "id": "view-in-github",
        "colab_type": "text"
      },
      "source": [
        "<a href=\"https://colab.research.google.com/github/giyuntf2/1day1commit/blob/main/pytorch/Torch_CUDA_SimpleGAN.ipynb\" target=\"_parent\"><img src=\"https://colab.research.google.com/assets/colab-badge.svg\" alt=\"Open In Colab\"/></a>"
      ]
    },
    {
      "cell_type": "code",
      "execution_count": 1,
      "metadata": {
        "colab": {
          "base_uri": "https://localhost:8080/",
          "height": 36
        },
        "id": "Ki4ddtye3pqi",
        "outputId": "5ec38e85-0a14-4a16-a9a4-ec81579f212a"
      },
      "outputs": [
        {
          "output_type": "execute_result",
          "data": {
            "text/plain": [
              "'torch.FloatTensor'"
            ],
            "application/vnd.google.colaboratory.intrinsic+json": {
              "type": "string"
            }
          },
          "metadata": {},
          "execution_count": 1
        }
      ],
      "source": [
        "import torch\n",
        "\n",
        "x = torch.FloatTensor([3.5])\n",
        "x.type()"
      ]
    },
    {
      "cell_type": "code",
      "source": [
        "# cuda에 올리기\n",
        "x = torch.cuda.FloatTensor([3.5])\n",
        "x.type()"
      ],
      "metadata": {
        "colab": {
          "base_uri": "https://localhost:8080/",
          "height": 36
        },
        "id": "scn4V8UG37QR",
        "outputId": "d6069b7f-4511-4301-a50b-ff1839a55f44"
      },
      "execution_count": 2,
      "outputs": [
        {
          "output_type": "execute_result",
          "data": {
            "text/plain": [
              "'torch.cuda.FloatTensor'"
            ],
            "application/vnd.google.colaboratory.intrinsic+json": {
              "type": "string"
            }
          },
          "metadata": {},
          "execution_count": 2
        }
      ]
    },
    {
      "cell_type": "code",
      "source": [
        "x.device"
      ],
      "metadata": {
        "colab": {
          "base_uri": "https://localhost:8080/"
        },
        "id": "x4UBlSDh44Pt",
        "outputId": "f8e90f8c-b2b3-4aa3-e7c7-bd22e4d754fd"
      },
      "execution_count": 3,
      "outputs": [
        {
          "output_type": "execute_result",
          "data": {
            "text/plain": [
              "device(type='cuda', index=0)"
            ]
          },
          "metadata": {},
          "execution_count": 3
        }
      ]
    },
    {
      "cell_type": "markdown",
      "source": [
        "# 600 x 600 CUDA Tensor Operation\n"
      ],
      "metadata": {
        "id": "Je9tDMwS48Sy"
      }
    },
    {
      "cell_type": "code",
      "source": [
        "import numpy as np\n",
        "\n",
        "# 정사각형 행렬의 크기\n",
        "size = 600\n",
        "\n",
        "a = np.random.rand(size, size)\n",
        "b = np.random.rand(size, size)"
      ],
      "metadata": {
        "id": "ftsErAwE5eFx"
      },
      "execution_count": 4,
      "outputs": []
    },
    {
      "cell_type": "code",
      "source": [
        "a_ = torch.cuda.FloatTensor(a)\n",
        "b_ = torch.cuda.FloatTensor(b)"
      ],
      "metadata": {
        "id": "zGw_Gck15A9M"
      },
      "execution_count": 5,
      "outputs": []
    },
    {
      "cell_type": "code",
      "source": [
        "%%timeit\n",
        "\n",
        "np.dot(a,b)"
      ],
      "metadata": {
        "colab": {
          "base_uri": "https://localhost:8080/"
        },
        "id": "a9KmjgBP5uoX",
        "outputId": "475da1d3-5519-4478-ac0e-ea9c27a8759b"
      },
      "execution_count": 6,
      "outputs": [
        {
          "output_type": "stream",
          "name": "stdout",
          "text": [
            "33.1 ms ± 2.82 ms per loop (mean ± std. dev. of 7 runs, 10 loops each)\n"
          ]
        }
      ]
    },
    {
      "cell_type": "code",
      "source": [
        "%%timeit\n",
        "\n",
        "a_mat_b = torch.matmul(a_, b_)"
      ],
      "metadata": {
        "colab": {
          "base_uri": "https://localhost:8080/"
        },
        "id": "MTFbAV4F5mqN",
        "outputId": "8ee0622b-7c77-4ce6-c0d3-71a5bbec2e8e"
      },
      "execution_count": 7,
      "outputs": [
        {
          "output_type": "stream",
          "name": "stdout",
          "text": [
            "The slowest run took 11.91 times longer than the fastest. This could mean that an intermediate result is being cached.\n",
            "23.3 µs ± 32.6 µs per loop (mean ± std. dev. of 7 runs, 1 loop each)\n"
          ]
        }
      ]
    },
    {
      "cell_type": "markdown",
      "source": [
        "# CUDA 선언 후 이를 확인하는 코드"
      ],
      "metadata": {
        "id": "eBj7jbcD6GZc"
      }
    },
    {
      "cell_type": "code",
      "source": [
        "if torch.cuda.is_available():\n",
        "    torch.set_default_tensor_type(torch.cuda.FloatTensor)\n",
        "    print(\"Using cuda :\", torch.cuda.get_device_name(0))\n",
        "\n",
        "torch.device('cuda' if torch.cuda.is_available() else 'cpu')"
      ],
      "metadata": {
        "colab": {
          "base_uri": "https://localhost:8080/"
        },
        "id": "9huAv6aA6KD0",
        "outputId": "516cefaa-89e5-4360-a58e-dfb1c978aa46"
      },
      "execution_count": 8,
      "outputs": [
        {
          "output_type": "stream",
          "name": "stdout",
          "text": [
            "Using cuda : Tesla P100-PCIE-16GB\n"
          ]
        },
        {
          "output_type": "execute_result",
          "data": {
            "text/plain": [
              "device(type='cuda')"
            ]
          },
          "metadata": {},
          "execution_count": 8
        }
      ]
    },
    {
      "cell_type": "markdown",
      "source": [
        "# GAN with 1010"
      ],
      "metadata": {
        "id": "iYOc_TB_76rV"
      }
    },
    {
      "cell_type": "code",
      "source": [
        "import torch\n",
        "import random\n",
        "import torch.nn as nn\n",
        "import pandas as pd\n",
        "import matplotlib.pyplot as plt\n",
        "\n",
        "#실제 데이터에 대해서 1010 패턴을 반환하는 함수 제작.\n",
        "def generate_random(size):\n",
        "    random_data = torch.rand(size)\n",
        "    return random_data\n",
        "\n",
        "def generate_real():\n",
        "    real_data = torch.cuda.FloatTensor(\n",
        "        [random.uniform(0.8, 1.0),\n",
        "         random.uniform(0.0, 0.2),\n",
        "         random.uniform(0.8, 1.0),\n",
        "         random.uniform(0.0, 0.2)]\n",
        "    )\n",
        "    return real_data"
      ],
      "metadata": {
        "id": "_33nshuP8LMn"
      },
      "execution_count": 9,
      "outputs": []
    },
    {
      "cell_type": "code",
      "source": [
        "class Discriminator(nn.Module):\n",
        "    \n",
        "    def __init__(self):\n",
        "        # 파이토치 부모 클래스 초기화\n",
        "        super().__init__()\n",
        "        \n",
        "        # 신경망 레이어 정의\n",
        "        self.model = nn.Sequential(\n",
        "            nn.Linear(4, 3),\n",
        "            nn.Sigmoid(),\n",
        "            nn.Linear(3, 1),\n",
        "            nn.Sigmoid()\n",
        "        )\n",
        "        \n",
        "        # 손실함수 생성\n",
        "        self.loss_function = nn.MSELoss()\n",
        "\n",
        "        # SGD 옵티마이저 생성\n",
        "        self.optimiser = torch.optim.SGD(self.parameters(), lr=0.01)\n",
        "\n",
        "        # 진행 측정을 위한 변수 초기화\n",
        "        self.counter = 0;\n",
        "        self.progress = []\n",
        "\n",
        "        pass\n",
        "    \n",
        "    \n",
        "    def forward(self, inputs):\n",
        "        # 모델 실행\n",
        "        return self.model(inputs)\n",
        "    \n",
        "    \n",
        "    def train(self, inputs, targets):\n",
        "        # 신경망 출력 계산\n",
        "        outputs = self.forward(inputs)\n",
        "        \n",
        "        # 손실 계산\n",
        "        loss = self.loss_function(outputs, targets)\n",
        "\n",
        "        # 매 10회마다 에러를 누적하고 카운터를 증가\n",
        "        self.counter += 1;\n",
        "        if (self.counter % 10 == 0):\n",
        "            self.progress.append(loss.item())\n",
        "            pass\n",
        "        if (self.counter % 10000 == 0):\n",
        "            print(\"counter = \", self.counter)\n",
        "            pass\n",
        "\n",
        "        # 기울기를 초기화 하고 역전파 후 가중치 갱신\n",
        "        self.optimiser.zero_grad()\n",
        "        loss.backward()\n",
        "        self.optimiser.step()\n",
        "\n",
        "        pass\n",
        "    \n",
        "    \n",
        "    def plot_progress(self):\n",
        "        df = pd.DataFrame(self.progress, columns=['loss'])\n",
        "        df.plot(ylim=(0, 1.0), figsize=(16,8), alpha=0.1, marker='.', grid=True, yticks=(0, 0.25, 0.5))\n",
        "        pass\n",
        "    \n",
        "    pass"
      ],
      "metadata": {
        "id": "UCaKbTycB-Qz"
      },
      "execution_count": 10,
      "outputs": []
    },
    {
      "cell_type": "code",
      "source": [
        "D = Discriminator()\n",
        "\"\"\"\n",
        "훈련 반복문 총 1만회.\n",
        "판별기의 train()는 generate_real()에서 얻은 실제 데이터를 대상으로 훈련함.\n",
        "목표 출력은 1.0의 값을 가진 텐서.\n",
        "\"\"\"\n",
        "\n",
        "for i in range(10000):\n",
        "    D.train(generate_real(), torch.cuda.FloatTensor([1.0]))\n",
        "    D.train(generate_random(4), torch.cuda.FloatTensor([0.0]))"
      ],
      "metadata": {
        "colab": {
          "base_uri": "https://localhost:8080/"
        },
        "id": "2q_lxTEJ_tVC",
        "outputId": "15fc74b6-c3e0-4426-da1b-8b859801dd8e"
      },
      "execution_count": 11,
      "outputs": [
        {
          "output_type": "stream",
          "name": "stdout",
          "text": [
            "counter =  10000\n",
            "counter =  20000\n"
          ]
        }
      ]
    },
    {
      "cell_type": "code",
      "source": [
        "D.plot_progress()"
      ],
      "metadata": {
        "colab": {
          "base_uri": "https://localhost:8080/",
          "height": 483
        },
        "id": "_qfC7H-8A96U",
        "outputId": "a1713160-18b5-49c5-c5aa-4cc4578ade01"
      },
      "execution_count": 12,
      "outputs": [
        {
          "output_type": "display_data",
          "data": {
            "text/plain": [
              "<Figure size 1152x576 with 1 Axes>"
            ],
            "image/png": "[encoded data removed]"
          },
          "metadata": {
            "needs_background": "light"
          }
        }
      ]
    },
    {
      "cell_type": "code",
      "source": [
        "print(D.forward(generate_real()).item())\n",
        "print(D.forward(generate_random(4)).item())"
      ],
      "metadata": {
        "colab": {
          "base_uri": "https://localhost:8080/"
        },
        "id": "RmDGfwLzBR1D",
        "outputId": "44913b04-6a25-4675-cef9-e29ffa670103"
      },
      "execution_count": 13,
      "outputs": [
        {
          "output_type": "stream",
          "name": "stdout",
          "text": [
            "0.7826972007751465\n",
            "0.09891863167285919\n"
          ]
        }
      ]
    },
    {
      "cell_type": "markdown",
      "source": [
        "# 생성기 만들기"
      ],
      "metadata": {
        "id": "iYSVO9U8Dx04"
      }
    },
    {
      "cell_type": "code",
      "source": [
        "class Generator(nn.Module):\n",
        "    def __init__(self):\n",
        "        super().__init__()\n",
        "\n",
        "        self.model = nn.Sequential(\n",
        "            nn.Linear(1, 3),\n",
        "            nn.Sigmoid(),\n",
        "            nn.Linear(3, 4),\n",
        "            nn.Sigmoid()\n",
        "        )\n",
        "\n",
        "        self.optimizer = torch.optim.Adam(self.parameters(), lr=0.01)\n",
        "\n",
        "        self.counter = 0\n",
        "        self.progress = []\n",
        "\n",
        "    def forward(self, inputs):\n",
        "        return self.model(inputs)\n",
        "#  \n",
        "# \"\"\"\n",
        "# 입력값은 생성기의 신경망에 self.forward(inputs)로 전달된다.\n",
        "# 생성기의 출력 g_output은 D.forward(g_output)을 통해 판별기의 신경망에 전달되고, \n",
        "# 분류 결과인 d_output이 나옴.\n",
        "# \"\"\"\n",
        "\n",
        "    def train(self, D, inputs, targets):\n",
        "        #신경망의 출력 계산\n",
        "        g_output = self.forward(inputs)\n",
        "\n",
        "        # 판별기로 전달\u001f\n",
        "        d_output = D.forward(g_output)\n",
        "\n",
        "        # 오차 계산\n",
        "        loss = D.loss_function(d_output, targets)\n",
        "\n",
        "        # 매 10회마다 에러를 누적하고 카운터를 증가\n",
        "        self.counter += 1;\n",
        "        if (self.counter % 10 == 0):\n",
        "            self.progress.append(loss.item())\n",
        "            \n",
        "\n",
        "        # 기울기를 초기화 하고 역전파 후 가중치 갱신\n",
        "        self.optimizer.zero_grad()\n",
        "        loss.backward()\n",
        "        self.optimizer.step()\n",
        "\n",
        "    \n",
        "    def plot_progress(self):\n",
        "        df = pd.DataFrame(self.progress, columns=['loss'])\n",
        "        df.plot(ylim=(0, 1.0), figsize=(16,8), alpha=0.1, marker='.', grid=True, yticks=(0, 0.25, 0.5))\n"
      ],
      "metadata": {
        "id": "3Uyc1p40DzWQ"
      },
      "execution_count": 14,
      "outputs": []
    },
    {
      "cell_type": "code",
      "source": [
        "G = Generator()\n",
        "\n",
        "G.forward(torch.cuda.FloatTensor([0.5]))"
      ],
      "metadata": {
        "colab": {
          "base_uri": "https://localhost:8080/"
        },
        "id": "ViCSsQPPGvKB",
        "outputId": "7bae82a0-3196-4ea2-e605-bad794a8aa01"
      },
      "execution_count": 15,
      "outputs": [
        {
          "output_type": "execute_result",
          "data": {
            "text/plain": [
              "tensor([0.4406, 0.4557, 0.4600, 0.5627], grad_fn=<SigmoidBackward0>)"
            ]
          },
          "metadata": {},
          "execution_count": 15
        }
      ]
    },
    {
      "cell_type": "code",
      "source": [
        "%%time \n",
        "\n",
        "# 판별기 및 생성기 생성\n",
        "\n",
        "D = Discriminator()\n",
        "G = Generator()\n",
        "\n",
        "image_list = []\n",
        "\n",
        "# 판별기와 생성기 훈련\n",
        "\n",
        "for i in range(10000):\n",
        "    \n",
        "    # 참일 경우 판별기 훈련\n",
        "    D.train(generate_real(), torch.cuda.FloatTensor([1.0]))\n",
        "    \n",
        "    # 거짓일 경우 판별기 훈련\n",
        "    # G의 기울기가 계산되지 않도록 detach() 함수를 이용\n",
        "    D.train(G.forward(torch.cuda.FloatTensor([0.5])).detach(), torch.cuda.FloatTensor([0.0]))\n",
        "    \n",
        "    # 생성기 훈련\n",
        "    G.train(D, torch.cuda.FloatTensor([0.5]), torch.cuda.FloatTensor([1.0]))\n",
        "    \n",
        "    # 매 1000 회마다 이미지 추가\n",
        "    if (i % 1000 == 0):\n",
        "      image_list.append( G.forward(torch.cuda.FloatTensor([0.5])).detach().cpu().numpy() )\n",
        "\n",
        "    pass"
      ],
      "metadata": {
        "colab": {
          "base_uri": "https://localhost:8080/"
        },
        "id": "D-fLFzZ9HG_i",
        "outputId": "df2373e4-34a4-4033-acfb-374a7eda7165"
      },
      "execution_count": 19,
      "outputs": [
        {
          "output_type": "stream",
          "name": "stdout",
          "text": [
            "counter =  10000\n",
            "counter =  20000\n",
            "CPU times: user 47 s, sys: 3.05 s, total: 50.1 s\n",
            "Wall time: 50.6 s\n"
          ]
        }
      ]
    },
    {
      "cell_type": "code",
      "source": [
        "D.plot_progress()"
      ],
      "metadata": {
        "colab": {
          "base_uri": "https://localhost:8080/",
          "height": 483
        },
        "id": "ACpMDBR1IhdR",
        "outputId": "4b6ca334-ec82-44cb-990d-a363b1030872"
      },
      "execution_count": 20,
      "outputs": [
        {
          "output_type": "display_data",
          "data": {
            "text/plain": [
              "<Figure size 1152x576 with 1 Axes>"
            ],
            "image/png": "[encoded data removed]"
          },
          "metadata": {
            "needs_background": "light"
          }
        }
      ]
    },
    {
      "cell_type": "code",
      "source": [
        "G.plot_progress()"
      ],
      "metadata": {
        "colab": {
          "base_uri": "https://localhost:8080/",
          "height": 483
        },
        "id": "uXGLjWAPIjxc",
        "outputId": "26616a85-3284-4170-d80e-869b084535c8"
      },
      "execution_count": 21,
      "outputs": [
        {
          "output_type": "display_data",
          "data": {
            "text/plain": [
              "<Figure size 1152x576 with 1 Axes>"
            ],
            "image/png": "[encoded data removed]"
          },
          "metadata": {
            "needs_background": "light"
          }
        }
      ]
    },
    {
      "cell_type": "code",
      "source": [
        "G.forward(torch.cuda.FloatTensor([0.5]))"
      ],
      "metadata": {
        "colab": {
          "base_uri": "https://localhost:8080/"
        },
        "id": "XjVOTQvEIlgH",
        "outputId": "2d1e5cd9-80da-453d-e482-713e2a1e5d21"
      },
      "execution_count": 25,
      "outputs": [
        {
          "output_type": "execute_result",
          "data": {
            "text/plain": [
              "tensor([9.9988e-01, 9.9228e-01, 9.9994e-01, 1.6580e-04],\n",
              "       grad_fn=<SigmoidBackward0>)"
            ]
          },
          "metadata": {},
          "execution_count": 25
        }
      ]
    },
    {
      "cell_type": "code",
      "source": [
        "# 훈련시 패턴 시각화\n",
        "\n",
        "plt.figure(figsize = (16,8))\n",
        "\n",
        "plt.imshow(np.array(image_list).T, interpolation='none', cmap='Blues')"
      ],
      "metadata": {
        "colab": {
          "base_uri": "https://localhost:8080/",
          "height": 427
        },
        "id": "z_VU-iB5IoQs",
        "outputId": "a36271d2-494a-4326-d365-694969600015"
      },
      "execution_count": 26,
      "outputs": [
        {
          "output_type": "execute_result",
          "data": {
            "text/plain": [
              "<matplotlib.image.AxesImage at 0x7f9ae2c42b90>"
            ]
          },
          "metadata": {},
          "execution_count": 26
        },
        {
          "output_type": "display_data",
          "data": {
            "text/plain": [
              "<Figure size 1152x576 with 1 Axes>"
            ],
            "image/png": "[encoded data removed]"
          },
          "metadata": {
            "needs_background": "light"
          }
        }
      ]
    }
  ]
}