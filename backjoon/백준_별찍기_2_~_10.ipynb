{
  "nbformat": 4,
  "nbformat_minor": 0,
  "metadata": {
    "colab": {
      "name": "백준 별찍기 2 ~ 10.ipynb",
      "provenance": [],
      "authorship_tag": "ABX9TyMJ/3A0+d8G79l2FbvtMAMs",
      "include_colab_link": true
    },
    "kernelspec": {
      "name": "python3",
      "display_name": "Python 3"
    },
    "language_info": {
      "name": "python"
    }
  },
  "cells": [
    {
      "cell_type": "markdown",
      "metadata": {
        "id": "view-in-github",
        "colab_type": "text"
      },
      "source": [
        "<a href=\"https://colab.research.google.com/github/giyuntf2/1day1commit/blob/main/backjoon/%EB%B0%B1%EC%A4%80_%EB%B3%84%EC%B0%8D%EA%B8%B0_2_~_10.ipynb\" target=\"_parent\"><img src=\"https://colab.research.google.com/assets/colab-badge.svg\" alt=\"Open In Colab\"/></a>"
      ]
    },
    {
      "cell_type": "markdown",
      "source": [
        "# 별찍기\n",
        "\n",
        "https://www.acmicpc.net/workbook/view/20\n",
        "\n"
      ],
      "metadata": {
        "id": "uvkRRkTIPCJw"
      }
    },
    {
      "cell_type": "code",
      "source": [
        "#별찍기 2번 2439\n",
        "\n",
        "N = int(input())\n",
        "\n",
        "for i in range(1, N+1):\n",
        "    print('_' * (N-i) + '*' * i)"
      ],
      "metadata": {
        "colab": {
          "base_uri": "https://localhost:8080/"
        },
        "id": "r6q0SqMCYleE",
        "outputId": "e2fb7d79-c218-478b-caac-b1380a901838"
      },
      "execution_count": 8,
      "outputs": [
        {
          "output_type": "stream",
          "name": "stdout",
          "text": [
            "5\n",
            "____*\n",
            "___**\n",
            "__***\n",
            "_****\n",
            "*****\n"
          ]
        }
      ]
    },
    {
      "cell_type": "code",
      "source": [
        "#별찍기 3번 2439\n",
        "\n",
        "N = int(input())\n",
        "\n",
        "for i in range(0, N):\n",
        "    print('*' * (N-i) + '_' * i)"
      ],
      "metadata": {
        "colab": {
          "base_uri": "https://localhost:8080/"
        },
        "id": "0VWTpYkwaeya",
        "outputId": "bd69aaeb-4056-4058-92bd-2b58b310b80d"
      },
      "execution_count": 11,
      "outputs": [
        {
          "output_type": "stream",
          "name": "stdout",
          "text": [
            "5\n",
            "*****\n",
            "****_\n",
            "***__\n",
            "**___\n",
            "*____\n"
          ]
        }
      ]
    },
    {
      "cell_type": "code",
      "source": [
        "#별찍기 4번 2441\n",
        "\n",
        "N = int(input())\n",
        "\n",
        "for i in range(0, N):\n",
        "    print(' ' * i + '*' * (N-i))"
      ],
      "metadata": {
        "colab": {
          "base_uri": "https://localhost:8080/"
        },
        "id": "D-A6fVWkbqep",
        "outputId": "30f72a25-cb69-4daa-fad9-697f82090e1e"
      },
      "execution_count": 43,
      "outputs": [
        {
          "output_type": "stream",
          "name": "stdout",
          "text": [
            "5\n",
            "*****\n",
            " ****\n",
            "  ***\n",
            "   **\n",
            "    *\n"
          ]
        }
      ]
    },
    {
      "cell_type": "code",
      "source": [
        "#별찍기 5번 2442\n",
        "\n",
        "N = int(input())\n",
        "\n",
        "for i in range(0, N):\n",
        "    print(' ' * (N-i-1) + '*' * (i+(i+1)))"
      ],
      "metadata": {
        "colab": {
          "base_uri": "https://localhost:8080/"
        },
        "id": "Mbwwyqo8iO6c",
        "outputId": "beb66496-bbaf-4ea3-a6de-c165304b6b42"
      },
      "execution_count": 72,
      "outputs": [
        {
          "output_type": "stream",
          "name": "stdout",
          "text": [
            "5\n",
            "    *\n",
            "   ***\n",
            "  *****\n",
            " *******\n",
            "*********\n"
          ]
        }
      ]
    },
    {
      "cell_type": "code",
      "source": [
        "#별찍기 6번 2443\n",
        "\n",
        "N = int(input())\n",
        "\n",
        "for i in range(1, N+1):\n",
        "    print(' ' * (i-1) + '*' * (2*N-(2*i-1)))"
      ],
      "metadata": {
        "colab": {
          "base_uri": "https://localhost:8080/"
        },
        "id": "YHThI1cDicCh",
        "outputId": "a6970bd1-2ed2-4a48-9cba-43655d3ce3cc"
      },
      "execution_count": 73,
      "outputs": [
        {
          "output_type": "stream",
          "name": "stdout",
          "text": [
            "5\n",
            "*********\n",
            " *******\n",
            "  *****\n",
            "   ***\n",
            "    *\n"
          ]
        }
      ]
    },
    {
      "cell_type": "code",
      "source": [
        "#별찍기 7번 2444\n",
        "\n",
        "N = int(input())\n",
        "\n",
        "for i in range(0, N-1):\n",
        "    print(' ' * (N-i-1) + '*' * (i+(i+1)))\n",
        "for i in range(1, N+1):\n",
        "    print(' ' * (i-1) + '*' * (2*N-(2*i-1)))"
      ],
      "metadata": {
        "colab": {
          "base_uri": "https://localhost:8080/"
        },
        "id": "b1dO8Tq4op1N",
        "outputId": "510b7595-ddeb-4612-84a6-fbf082d4abf7"
      },
      "execution_count": 74,
      "outputs": [
        {
          "output_type": "stream",
          "name": "stdout",
          "text": [
            "5\n",
            "    *\n",
            "   ***\n",
            "  *****\n",
            " *******\n",
            "*********\n",
            " *******\n",
            "  *****\n",
            "   ***\n",
            "    *\n"
          ]
        }
      ]
    },
    {
      "cell_type": "code",
      "source": [
        "#별찍기 8번 2445\n",
        "\n",
        "N = int(input())\n",
        "\n",
        "for i in range(1, N+1):\n",
        "    print('*' * i +' ' * (2*N-(2*i)) + '*' * i)\n",
        "for i in range(1, N):\n",
        "    print('*' * (N-i) + ' ' * (2*i) + '*' * (N-i))"
      ],
      "metadata": {
        "colab": {
          "base_uri": "https://localhost:8080/"
        },
        "id": "7NFz61aMo2-3",
        "outputId": "f78517db-a03b-43e3-eb1d-df9dab9beb15"
      },
      "execution_count": 101,
      "outputs": [
        {
          "output_type": "stream",
          "name": "stdout",
          "text": [
            "4\n",
            "*      *\n",
            "**    **\n",
            "***  ***\n",
            "********\n",
            "***  ***\n",
            "**    **\n",
            "*      *\n"
          ]
        }
      ]
    },
    {
      "cell_type": "code",
      "source": [
        "#별찍기 9번 2446\n",
        "\n",
        "N = int(input())\n",
        "\n",
        "for i in range(1, N):\n",
        "    print(' ' * (i-1) + '*' * (2*N-(2*i-1)))\n",
        "for i in range(1, N+1):\n",
        "    print(' ' * (N-i) + '*' * (2*i-1))"
      ],
      "metadata": {
        "colab": {
          "base_uri": "https://localhost:8080/"
        },
        "id": "EHIbGjT2xxbC",
        "outputId": "91d58c00-400f-40b8-d1b1-8d22dcadeb72"
      },
      "execution_count": 107,
      "outputs": [
        {
          "output_type": "stream",
          "name": "stdout",
          "text": [
            "5\n",
            "*********\n",
            " *******\n",
            "  *****\n",
            "   ***\n",
            "    *\n",
            "   ***\n",
            "  *****\n",
            " *******\n",
            "*********\n"
          ]
        }
      ]
    },
    {
      "cell_type": "code",
      "source": [
        "#별찍기 10번 2447\n",
        "\n",
        "def star(n, x):\n",
        "    out = []\n",
        "\n",
        "    if n == 3:\n",
        "        return x\n",
        "    \n",
        "    else:\n",
        "        for i in x:\n",
        "            out.append(i*3)\n",
        "\n",
        "        for i in x:\n",
        "            out.append(i + ' ' *len(x) + i)\n",
        "\n",
        "        for i in x:\n",
        "            out.append(i*3)\n",
        "\n",
        "        return star(n//3, out)\n",
        "\n",
        "if __name__ == '__main__':\n",
        "    n = int(input())\n",
        "    first = ['***', '* *', '***']\n",
        "    final = star(n, first)\n",
        "    for i in final:\n",
        "        print(i)"
      ],
      "metadata": {
        "colab": {
          "base_uri": "https://localhost:8080/"
        },
        "id": "VTfPNVQLzSUB",
        "outputId": "de6afce7-e8e8-4a49-8aa7-cc2eb1a1005e"
      },
      "execution_count": 3,
      "outputs": [
        {
          "output_type": "stream",
          "name": "stdout",
          "text": [
            "9\n",
            "*********\n",
            "* ** ** *\n",
            "*********\n",
            "***   ***\n",
            "* *   * *\n",
            "***   ***\n",
            "*********\n",
            "* ** ** *\n",
            "*********\n"
          ]
        }
      ]
    }
  ]
}