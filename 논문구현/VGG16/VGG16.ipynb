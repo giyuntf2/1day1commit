{
  "nbformat": 4,
  "nbformat_minor": 0,
  "metadata": {
    "colab": {
      "provenance": [],
      "collapsed_sections": [],
      "authorship_tag": "ABX9TyPlSojdhL24muNnHtUx0N3/",
      "include_colab_link": true
    },
    "kernelspec": {
      "name": "python3",
      "display_name": "Python 3"
    },
    "language_info": {
      "name": "python"
    },
    "accelerator": "GPU",
    "widgets": {
      "application/vnd.jupyter.widget-state+json": {
        "20733934c94743e3be6924f780be5894": {
          "model_module": "@jupyter-widgets/controls",
          "model_name": "HBoxModel",
          "model_module_version": "1.5.0",
          "state": {
            "_dom_classes": [],
            "_model_module": "@jupyter-widgets/controls",
            "_model_module_version": "1.5.0",
            "_model_name": "HBoxModel",
            "_view_count": null,
            "_view_module": "@jupyter-widgets/controls",
            "_view_module_version": "1.5.0",
            "_view_name": "HBoxView",
            "box_style": "",
            "children": [
              "IPY_MODEL_99bc75a1cedb45cc9f744a75db921113",
              "IPY_MODEL_46df9e2b032d487e993fe49f57c2d8fa",
              "IPY_MODEL_e4783165c87d4e3bb6c39bf400fc8d3d"
            ],
            "layout": "IPY_MODEL_8d8b4b9877714bc2a5dea780823adc22"
          }
        },
        "99bc75a1cedb45cc9f744a75db921113": {
          "model_module": "@jupyter-widgets/controls",
          "model_name": "HTMLModel",
          "model_module_version": "1.5.0",
          "state": {
            "_dom_classes": [],
            "_model_module": "@jupyter-widgets/controls",
            "_model_module_version": "1.5.0",
            "_model_name": "HTMLModel",
            "_view_count": null,
            "_view_module": "@jupyter-widgets/controls",
            "_view_module_version": "1.5.0",
            "_view_name": "HTMLView",
            "description": "",
            "description_tooltip": null,
            "layout": "IPY_MODEL_721d654b5391451e8599d46ff8756702",
            "placeholder": "​",
            "style": "IPY_MODEL_ce7aec9caaae40cc811cb7127ae3f122",
            "value": "100%"
          }
        },
        "46df9e2b032d487e993fe49f57c2d8fa": {
          "model_module": "@jupyter-widgets/controls",
          "model_name": "FloatProgressModel",
          "model_module_version": "1.5.0",
          "state": {
            "_dom_classes": [],
            "_model_module": "@jupyter-widgets/controls",
            "_model_module_version": "1.5.0",
            "_model_name": "FloatProgressModel",
            "_view_count": null,
            "_view_module": "@jupyter-widgets/controls",
            "_view_module_version": "1.5.0",
            "_view_name": "ProgressView",
            "bar_style": "success",
            "description": "",
            "description_tooltip": null,
            "layout": "IPY_MODEL_53e37a9e20ea4c93b3a4b9ce6c3d8e19",
            "max": 170498071,
            "min": 0,
            "orientation": "horizontal",
            "style": "IPY_MODEL_0982ddf25e784e86b63920b6fd8ea3e3",
            "value": 170498071
          }
        },
        "e4783165c87d4e3bb6c39bf400fc8d3d": {
          "model_module": "@jupyter-widgets/controls",
          "model_name": "HTMLModel",
          "model_module_version": "1.5.0",
          "state": {
            "_dom_classes": [],
            "_model_module": "@jupyter-widgets/controls",
            "_model_module_version": "1.5.0",
            "_model_name": "HTMLModel",
            "_view_count": null,
            "_view_module": "@jupyter-widgets/controls",
            "_view_module_version": "1.5.0",
            "_view_name": "HTMLView",
            "description": "",
            "description_tooltip": null,
            "layout": "IPY_MODEL_0e8f8a528414479a9c8a85ea59ab4d9c",
            "placeholder": "​",
            "style": "IPY_MODEL_da21a8ccba464a498e3ecf639904207d",
            "value": " 170498071/170498071 [00:01&lt;00:00, 113155294.90it/s]"
          }
        },
        "8d8b4b9877714bc2a5dea780823adc22": {
          "model_module": "@jupyter-widgets/base",
          "model_name": "LayoutModel",
          "model_module_version": "1.2.0",
          "state": {
            "_model_module": "@jupyter-widgets/base",
            "_model_module_version": "1.2.0",
            "_model_name": "LayoutModel",
            "_view_count": null,
            "_view_module": "@jupyter-widgets/base",
            "_view_module_version": "1.2.0",
            "_view_name": "LayoutView",
            "align_content": null,
            "align_items": null,
            "align_self": null,
            "border": null,
            "bottom": null,
            "display": null,
            "flex": null,
            "flex_flow": null,
            "grid_area": null,
            "grid_auto_columns": null,
            "grid_auto_flow": null,
            "grid_auto_rows": null,
            "grid_column": null,
            "grid_gap": null,
            "grid_row": null,
            "grid_template_areas": null,
            "grid_template_columns": null,
            "grid_template_rows": null,
            "height": null,
            "justify_content": null,
            "justify_items": null,
            "left": null,
            "margin": null,
            "max_height": null,
            "max_width": null,
            "min_height": null,
            "min_width": null,
            "object_fit": null,
            "object_position": null,
            "order": null,
            "overflow": null,
            "overflow_x": null,
            "overflow_y": null,
            "padding": null,
            "right": null,
            "top": null,
            "visibility": null,
            "width": null
          }
        },
        "721d654b5391451e8599d46ff8756702": {
          "model_module": "@jupyter-widgets/base",
          "model_name": "LayoutModel",
          "model_module_version": "1.2.0",
          "state": {
            "_model_module": "@jupyter-widgets/base",
            "_model_module_version": "1.2.0",
            "_model_name": "LayoutModel",
            "_view_count": null,
            "_view_module": "@jupyter-widgets/base",
            "_view_module_version": "1.2.0",
            "_view_name": "LayoutView",
            "align_content": null,
            "align_items": null,
            "align_self": null,
            "border": null,
            "bottom": null,
            "display": null,
            "flex": null,
            "flex_flow": null,
            "grid_area": null,
            "grid_auto_columns": null,
            "grid_auto_flow": null,
            "grid_auto_rows": null,
            "grid_column": null,
            "grid_gap": null,
            "grid_row": null,
            "grid_template_areas": null,
            "grid_template_columns": null,
            "grid_template_rows": null,
            "height": null,
            "justify_content": null,
            "justify_items": null,
            "left": null,
            "margin": null,
            "max_height": null,
            "max_width": null,
            "min_height": null,
            "min_width": null,
            "object_fit": null,
            "object_position": null,
            "order": null,
            "overflow": null,
            "overflow_x": null,
            "overflow_y": null,
            "padding": null,
            "right": null,
            "top": null,
            "visibility": null,
            "width": null
          }
        },
        "ce7aec9caaae40cc811cb7127ae3f122": {
          "model_module": "@jupyter-widgets/controls",
          "model_name": "DescriptionStyleModel",
          "model_module_version": "1.5.0",
          "state": {
            "_model_module": "@jupyter-widgets/controls",
            "_model_module_version": "1.5.0",
            "_model_name": "DescriptionStyleModel",
            "_view_count": null,
            "_view_module": "@jupyter-widgets/base",
            "_view_module_version": "1.2.0",
            "_view_name": "StyleView",
            "description_width": ""
          }
        },
        "53e37a9e20ea4c93b3a4b9ce6c3d8e19": {
          "model_module": "@jupyter-widgets/base",
          "model_name": "LayoutModel",
          "model_module_version": "1.2.0",
          "state": {
            "_model_module": "@jupyter-widgets/base",
            "_model_module_version": "1.2.0",
            "_model_name": "LayoutModel",
            "_view_count": null,
            "_view_module": "@jupyter-widgets/base",
            "_view_module_version": "1.2.0",
            "_view_name": "LayoutView",
            "align_content": null,
            "align_items": null,
            "align_self": null,
            "border": null,
            "bottom": null,
            "display": null,
            "flex": null,
            "flex_flow": null,
            "grid_area": null,
            "grid_auto_columns": null,
            "grid_auto_flow": null,
            "grid_auto_rows": null,
            "grid_column": null,
            "grid_gap": null,
            "grid_row": null,
            "grid_template_areas": null,
            "grid_template_columns": null,
            "grid_template_rows": null,
            "height": null,
            "justify_content": null,
            "justify_items": null,
            "left": null,
            "margin": null,
            "max_height": null,
            "max_width": null,
            "min_height": null,
            "min_width": null,
            "object_fit": null,
            "object_position": null,
            "order": null,
            "overflow": null,
            "overflow_x": null,
            "overflow_y": null,
            "padding": null,
            "right": null,
            "top": null,
            "visibility": null,
            "width": null
          }
        },
        "0982ddf25e784e86b63920b6fd8ea3e3": {
          "model_module": "@jupyter-widgets/controls",
          "model_name": "ProgressStyleModel",
          "model_module_version": "1.5.0",
          "state": {
            "_model_module": "@jupyter-widgets/controls",
            "_model_module_version": "1.5.0",
            "_model_name": "ProgressStyleModel",
            "_view_count": null,
            "_view_module": "@jupyter-widgets/base",
            "_view_module_version": "1.2.0",
            "_view_name": "StyleView",
            "bar_color": null,
            "description_width": ""
          }
        },
        "0e8f8a528414479a9c8a85ea59ab4d9c": {
          "model_module": "@jupyter-widgets/base",
          "model_name": "LayoutModel",
          "model_module_version": "1.2.0",
          "state": {
            "_model_module": "@jupyter-widgets/base",
            "_model_module_version": "1.2.0",
            "_model_name": "LayoutModel",
            "_view_count": null,
            "_view_module": "@jupyter-widgets/base",
            "_view_module_version": "1.2.0",
            "_view_name": "LayoutView",
            "align_content": null,
            "align_items": null,
            "align_self": null,
            "border": null,
            "bottom": null,
            "display": null,
            "flex": null,
            "flex_flow": null,
            "grid_area": null,
            "grid_auto_columns": null,
            "grid_auto_flow": null,
            "grid_auto_rows": null,
            "grid_column": null,
            "grid_gap": null,
            "grid_row": null,
            "grid_template_areas": null,
            "grid_template_columns": null,
            "grid_template_rows": null,
            "height": null,
            "justify_content": null,
            "justify_items": null,
            "left": null,
            "margin": null,
            "max_height": null,
            "max_width": null,
            "min_height": null,
            "min_width": null,
            "object_fit": null,
            "object_position": null,
            "order": null,
            "overflow": null,
            "overflow_x": null,
            "overflow_y": null,
            "padding": null,
            "right": null,
            "top": null,
            "visibility": null,
            "width": null
          }
        },
        "da21a8ccba464a498e3ecf639904207d": {
          "model_module": "@jupyter-widgets/controls",
          "model_name": "DescriptionStyleModel",
          "model_module_version": "1.5.0",
          "state": {
            "_model_module": "@jupyter-widgets/controls",
            "_model_module_version": "1.5.0",
            "_model_name": "DescriptionStyleModel",
            "_view_count": null,
            "_view_module": "@jupyter-widgets/base",
            "_view_module_version": "1.2.0",
            "_view_name": "StyleView",
            "description_width": ""
          }
        }
      }
    }
  },
  "cells": [
    {
      "cell_type": "markdown",
      "metadata": {
        "id": "view-in-github",
        "colab_type": "text"
      },
      "source": [
        "<a href=\"https://colab.research.google.com/github/giyuntf2/1day1commit/blob/main/%EB%85%BC%EB%AC%B8%EA%B5%AC%ED%98%84/VGG16/VGG16.ipynb\" target=\"_parent\"><img src=\"https://colab.research.google.com/assets/colab-badge.svg\" alt=\"Open In Colab\"/></a>"
      ]
    },
    {
      "cell_type": "code",
      "source": [
        "!pip install transformers==3"
      ],
      "metadata": {
        "colab": {
          "base_uri": "https://localhost:8080/"
        },
        "id": "zkC7DFXN9fjF",
        "outputId": "4bf24c8c-1921-4edf-c067-74763599af64"
      },
      "execution_count": null,
      "outputs": [
        {
          "output_type": "stream",
          "name": "stdout",
          "text": [
            "Looking in indexes: https://pypi.org/simple, https://us-python.pkg.dev/colab-wheels/public/simple/\n",
            "Requirement already satisfied: transformers==3 in /usr/local/lib/python3.7/dist-packages (3.0.0)\n",
            "Requirement already satisfied: requests in /usr/local/lib/python3.7/dist-packages (from transformers==3) (2.23.0)\n",
            "Requirement already satisfied: regex!=2019.12.17 in /usr/local/lib/python3.7/dist-packages (from transformers==3) (2022.6.2)\n",
            "Requirement already satisfied: packaging in /usr/local/lib/python3.7/dist-packages (from transformers==3) (21.3)\n",
            "Requirement already satisfied: tqdm>=4.27 in /usr/local/lib/python3.7/dist-packages (from transformers==3) (4.64.1)\n",
            "Requirement already satisfied: filelock in /usr/local/lib/python3.7/dist-packages (from transformers==3) (3.8.0)\n",
            "Requirement already satisfied: sentencepiece in /usr/local/lib/python3.7/dist-packages (from transformers==3) (0.1.97)\n",
            "Requirement already satisfied: tokenizers==0.8.0-rc4 in /usr/local/lib/python3.7/dist-packages (from transformers==3) (0.8.0rc4)\n",
            "Requirement already satisfied: numpy in /usr/local/lib/python3.7/dist-packages (from transformers==3) (1.21.6)\n",
            "Requirement already satisfied: sacremoses in /usr/local/lib/python3.7/dist-packages (from transformers==3) (0.0.53)\n",
            "Requirement already satisfied: pyparsing!=3.0.5,>=2.0.2 in /usr/local/lib/python3.7/dist-packages (from packaging->transformers==3) (3.0.9)\n",
            "Requirement already satisfied: idna<3,>=2.5 in /usr/local/lib/python3.7/dist-packages (from requests->transformers==3) (2.10)\n",
            "Requirement already satisfied: urllib3!=1.25.0,!=1.25.1,<1.26,>=1.21.1 in /usr/local/lib/python3.7/dist-packages (from requests->transformers==3) (1.24.3)\n",
            "Requirement already satisfied: chardet<4,>=3.0.2 in /usr/local/lib/python3.7/dist-packages (from requests->transformers==3) (3.0.4)\n",
            "Requirement already satisfied: certifi>=2017.4.17 in /usr/local/lib/python3.7/dist-packages (from requests->transformers==3) (2022.6.15)\n",
            "Requirement already satisfied: six in /usr/local/lib/python3.7/dist-packages (from sacremoses->transformers==3) (1.15.0)\n",
            "Requirement already satisfied: joblib in /usr/local/lib/python3.7/dist-packages (from sacremoses->transformers==3) (1.1.0)\n",
            "Requirement already satisfied: click in /usr/local/lib/python3.7/dist-packages (from sacremoses->transformers==3) (7.1.2)\n"
          ]
        }
      ]
    },
    {
      "cell_type": "code",
      "source": [
        "import torch\n",
        "import torch.nn as nn\n",
        "import torch.nn.functional as F\n",
        "import torchvision\n",
        "import matplotlib.pyplot as plt\n",
        "import numpy as np\n",
        "from torchvision import datasets, transforms\n",
        "from torch.utils.data import DataLoader"
      ],
      "metadata": {
        "id": "02YfR0NZmOD6"
      },
      "execution_count": 1,
      "outputs": []
    },
    {
      "cell_type": "code",
      "source": [
        "batch_size = 100\n",
        "learning_rate = 1e-3\n",
        "num_epoch = 20\n",
        "\n",
        "transform = transforms.Compose([\n",
        "    transforms.ToTensor(),\n",
        "    transforms.Normalize((0.5, 0.5, 0.5), (0.5, 0.5, 0.5))]\n",
        ")\n",
        "\n",
        "X_train = datasets.CIFAR10(root='/data', train=True, download=True, transform=transform)\n",
        "y_train = datasets.CIFAR10(root='/data', train=False, download=True, transform=transform)\n",
        "\n",
        "classes = ('plane', 'car', 'bird', 'cat', 'deer', 'dog', 'frog', 'horse', 'ship', 'truck')\n"
      ],
      "metadata": {
        "colab": {
          "base_uri": "https://localhost:8080/",
          "height": 103,
          "referenced_widgets": [
            "20733934c94743e3be6924f780be5894",
            "99bc75a1cedb45cc9f744a75db921113",
            "46df9e2b032d487e993fe49f57c2d8fa",
            "e4783165c87d4e3bb6c39bf400fc8d3d",
            "8d8b4b9877714bc2a5dea780823adc22",
            "721d654b5391451e8599d46ff8756702",
            "ce7aec9caaae40cc811cb7127ae3f122",
            "53e37a9e20ea4c93b3a4b9ce6c3d8e19",
            "0982ddf25e784e86b63920b6fd8ea3e3",
            "0e8f8a528414479a9c8a85ea59ab4d9c",
            "da21a8ccba464a498e3ecf639904207d"
          ]
        },
        "id": "My9gunSZuG6u",
        "outputId": "c97ee503-1926-4d7a-a15f-a327f1802ac8"
      },
      "execution_count": 2,
      "outputs": [
        {
          "output_type": "stream",
          "name": "stdout",
          "text": [
            "Downloading https://www.cs.toronto.edu/~kriz/cifar-10-python.tar.gz to /data/cifar-10-python.tar.gz\n"
          ]
        },
        {
          "output_type": "display_data",
          "data": {
            "text/plain": [
              "  0%|          | 0/170498071 [00:00<?, ?it/s]"
            ],
            "application/vnd.jupyter.widget-view+json": {
              "version_major": 2,
              "version_minor": 0,
              "model_id": "20733934c94743e3be6924f780be5894"
            }
          },
          "metadata": {}
        },
        {
          "output_type": "stream",
          "name": "stdout",
          "text": [
            "Extracting /data/cifar-10-python.tar.gz to /data\n",
            "Files already downloaded and verified\n"
          ]
        }
      ]
    },
    {
      "cell_type": "code",
      "source": [
        "train_loader = DataLoader(X_train, batch_size=64, shuffle=True, num_workers=2)\n",
        "test_loader = DataLoader(y_train, batch_size=64, shuffle=True, num_workers=2)"
      ],
      "metadata": {
        "id": "Hj0uHptmAN2W"
      },
      "execution_count": 3,
      "outputs": []
    },
    {
      "cell_type": "code",
      "source": [
        "def imshow(img):\n",
        "    img = img / 2 + 0.5\n",
        "    npimg = img.numpy()\n",
        "    plt.imshow(np.transpose(npimg, (1,2,0)))\n",
        "    plt.show()\n",
        "\n",
        "dataiter = iter(train_loader)\n",
        "images, labels = dataiter.next()\n",
        "\n",
        "imshow(torchvision.utils.make_grid(images))\n",
        "print(' '.join(f'{classes[labels[j]]:5s}' for j in range(64)))"
      ],
      "metadata": {
        "colab": {
          "base_uri": "https://localhost:8080/",
          "height": 307
        },
        "id": "mcdibcxau5NZ",
        "outputId": "f7817b5e-0e16-4e92-f746-da165a28eb10"
      },
      "execution_count": 4,
      "outputs": [
        {
          "output_type": "display_data",
          "data": {
            "text/plain": [
              "<Figure size 432x288 with 1 Axes>"
            ],
            "image/png": "[encoded data removed]"
          },
          "metadata": {
            "needs_background": "light"
          }
        },
        {
          "output_type": "stream",
          "name": "stdout",
          "text": [
            "car   ship  deer  horse ship  cat   bird  truck dog   frog  car   ship  plane plane cat   plane frog  frog  cat   deer  cat   truck plane frog  dog   bird  cat   bird  horse cat   ship  horse plane deer  frog  deer  truck deer  cat   plane deer  cat   ship  deer  cat   cat   deer  car   bird  plane cat   dog   dog   bird  bird  frog  plane deer  frog  horse bird  dog   car   car  \n"
          ]
        }
      ]
    },
    {
      "cell_type": "markdown",
      "source": [
        "# definition."
      ],
      "metadata": {
        "id": "L0Tq0gmiJT_G"
      }
    },
    {
      "cell_type": "code",
      "source": [
        "def conv_layer_2(in_channels, out_channels):\n",
        "    model = nn.Sequential(\n",
        "        nn.Conv2d(in_channels, out_channels, kernel_size=3, padding=1),\n",
        "        nn.LeakyReLU(),\n",
        "        nn.Conv2d(out_channels, out_channels, kernel_size=3, padding=1),\n",
        "        nn.LeakyReLU(),\n",
        "        nn.MaxPool2d(2,2)\n",
        "    )\n",
        "\n",
        "    return model\n",
        "\n",
        "def conv_layer_3(in_channels, out_channels):\n",
        "    model = nn.Sequential(\n",
        "        nn.Conv2d(in_channels, out_channels, kernel_size=3, padding=1),\n",
        "        nn.LeakyReLU(),\n",
        "        nn.Conv2d(out_channels, out_channels, kernel_size=3, padding=1),\n",
        "        nn.LeakyReLU(),\n",
        "        nn.Conv2d(out_channels, out_channels, kernel_size=3, padding=1),\n",
        "        nn.LeakyReLU(),\n",
        "        nn.MaxPool2d(2,2)\n",
        "    )\n",
        "\n",
        "    return model"
      ],
      "metadata": {
        "id": "lJqHTxWIrrre"
      },
      "execution_count": 34,
      "outputs": []
    },
    {
      "cell_type": "code",
      "source": [
        "class VGG16(nn.Module):\n",
        "    def __init__(self, out_channels, num_classes=10):\n",
        "        super(VGG16, self).__init__()\n",
        "\n",
        "        self.vgg16 = nn.Sequential(\n",
        "            conv_layer_2(3, out_channels), #3, 64\n",
        "            conv_layer_2(out_channels, out_channels*2), #128\n",
        "            conv_layer_3(out_channels*2, out_channels*4), #256\n",
        "            conv_layer_3(out_channels*4, out_channels*8), #512\n",
        "            conv_layer_3(out_channels*8, out_channels*8) #512\n",
        "        )\n",
        "\n",
        "        self.fc_layer = nn.Sequential(\n",
        "            nn.Linear(8*out_channels*1*1, 4096),\n",
        "            nn.LeakyReLU(True),\n",
        "            nn.Dropout(),\n",
        "            nn.Linear(4096, 1000),\n",
        "            nn.LeakyReLU(True),\n",
        "            nn.Dropout(),\n",
        "            nn.Linear(1000, num_classes)\n",
        "        )\n",
        "\n",
        "    def forward(self, x):\n",
        "        x = self.vgg16(x)\n",
        "        x = x.view(x.size(0), -1)\n",
        "        x = self.fc_layer(x)\n",
        "\n",
        "        return x"
      ],
      "metadata": {
        "id": "_QFgCAve7P_A"
      },
      "execution_count": 38,
      "outputs": []
    },
    {
      "cell_type": "code",
      "source": [
        "device = torch.device(\"cuda:0\" if torch.cuda.is_available() else 'cpu')\n",
        "model_vgg16_ = VGG16(out_channels=64).to(device)\n",
        "\n",
        "\n",
        "criterion = nn.CrossEntropyLoss().cuda()\n",
        "optimizer = torch.optim.Adam(model_vgg16_.parameters(),lr=0.0001)"
      ],
      "metadata": {
        "id": "kMgOwVGW7y31"
      },
      "execution_count": 39,
      "outputs": []
    },
    {
      "cell_type": "code",
      "source": [
        "from torchsummary import summary as summary_\n",
        "\n",
        "summary_(model_vgg16_, input_size=(3,32,32), device=device.type)"
      ],
      "metadata": {
        "colab": {
          "base_uri": "https://localhost:8080/"
        },
        "id": "DVJaD4wI8i1Z",
        "outputId": "f305963c-ceba-4975-a258-b8bfff8a52bd"
      },
      "execution_count": 40,
      "outputs": [
        {
          "output_type": "stream",
          "name": "stdout",
          "text": [
            "----------------------------------------------------------------\n",
            "        Layer (type)               Output Shape         Param #\n",
            "================================================================\n",
            "            Conv2d-1           [-1, 64, 32, 32]           1,792\n",
            "         LeakyReLU-2           [-1, 64, 32, 32]               0\n",
            "            Conv2d-3           [-1, 64, 32, 32]          36,928\n",
            "         LeakyReLU-4           [-1, 64, 32, 32]               0\n",
            "         MaxPool2d-5           [-1, 64, 16, 16]               0\n",
            "            Conv2d-6          [-1, 128, 16, 16]          73,856\n",
            "         LeakyReLU-7          [-1, 128, 16, 16]               0\n",
            "            Conv2d-8          [-1, 128, 16, 16]         147,584\n",
            "         LeakyReLU-9          [-1, 128, 16, 16]               0\n",
            "        MaxPool2d-10            [-1, 128, 8, 8]               0\n",
            "           Conv2d-11            [-1, 256, 8, 8]         295,168\n",
            "        LeakyReLU-12            [-1, 256, 8, 8]               0\n",
            "           Conv2d-13            [-1, 256, 8, 8]         590,080\n",
            "        LeakyReLU-14            [-1, 256, 8, 8]               0\n",
            "           Conv2d-15            [-1, 256, 8, 8]         590,080\n",
            "        LeakyReLU-16            [-1, 256, 8, 8]               0\n",
            "        MaxPool2d-17            [-1, 256, 4, 4]               0\n",
            "           Conv2d-18            [-1, 512, 4, 4]       1,180,160\n",
            "        LeakyReLU-19            [-1, 512, 4, 4]               0\n",
            "           Conv2d-20            [-1, 512, 4, 4]       2,359,808\n",
            "        LeakyReLU-21            [-1, 512, 4, 4]               0\n",
            "           Conv2d-22            [-1, 512, 4, 4]       2,359,808\n",
            "        LeakyReLU-23            [-1, 512, 4, 4]               0\n",
            "        MaxPool2d-24            [-1, 512, 2, 2]               0\n",
            "           Conv2d-25            [-1, 512, 2, 2]       2,359,808\n",
            "        LeakyReLU-26            [-1, 512, 2, 2]               0\n",
            "           Conv2d-27            [-1, 512, 2, 2]       2,359,808\n",
            "        LeakyReLU-28            [-1, 512, 2, 2]               0\n",
            "           Conv2d-29            [-1, 512, 2, 2]       2,359,808\n",
            "        LeakyReLU-30            [-1, 512, 2, 2]               0\n",
            "        MaxPool2d-31            [-1, 512, 1, 1]               0\n",
            "           Linear-32                 [-1, 4096]       2,101,248\n",
            "        LeakyReLU-33                 [-1, 4096]               0\n",
            "          Dropout-34                 [-1, 4096]               0\n",
            "           Linear-35                 [-1, 1000]       4,097,000\n",
            "        LeakyReLU-36                 [-1, 1000]               0\n",
            "          Dropout-37                 [-1, 1000]               0\n",
            "           Linear-38                   [-1, 10]          10,010\n",
            "================================================================\n",
            "Total params: 20,922,946\n",
            "Trainable params: 20,922,946\n",
            "Non-trainable params: 0\n",
            "----------------------------------------------------------------\n",
            "Input size (MB): 0.01\n",
            "Forward/backward pass size (MB): 4.57\n",
            "Params size (MB): 79.81\n",
            "Estimated Total Size (MB): 84.40\n",
            "----------------------------------------------------------------\n"
          ]
        }
      ]
    },
    {
      "cell_type": "code",
      "source": [
        "for epoch in range(10):  \n",
        "    running_loss = 0.0\n",
        "    for i, data in enumerate(train_loader, 0):\n",
        "        inputs, labels = data\n",
        "        inputs, labels = inputs.to(device), labels.to(device)\n",
        "        optimizer.zero_grad()\n",
        "\n",
        "        outputs = model_vgg16_(inputs)\n",
        "\n",
        "        loss = criterion(outputs, labels)\n",
        "        loss.backward()\n",
        "        optimizer.step()\n",
        "\n",
        "        if(loss.item() > 1000):\n",
        "            print(loss.item())\n",
        "            for param in model_vgg16_.parameters():\n",
        "                print(param.data)\n",
        "\n",
        "        running_loss += loss.item()\n",
        "        if i % 50 == 49:\n",
        "            print('[%d, %5d] loss: %.3f' %\n",
        "                  (epoch + 1, i + 1, running_loss / 50))\n",
        "            running_loss = 0.0\n",
        "\n",
        "print('Finished Training')\n",
        "\n",
        "class_correct = list(0. for i in range(10))\n",
        "class_total = list(0. for i in range(10))\n",
        "with torch.no_grad():\n",
        "    for data in test_loader:\n",
        "        images, labels = data\n",
        "        images = images.cuda()\n",
        "        labels = labels.cuda()\n",
        "        outputs = model_vgg16_(images)\n",
        "        _, predicted = torch.max(outputs, 1)\n",
        "        c = (predicted == labels).squeeze()\n",
        "        for i in range(4):\n",
        "            label = labels[i]\n",
        "            class_correct[label] += c[i].item()\n",
        "            class_total[label] += 1\n",
        "\n",
        "for i in range(10):\n",
        "    print('Accuracy of %5s : %2d %%' % (\n",
        "        classes[i], 100 * class_correct[i] / class_total[i]))"
      ],
      "metadata": {
        "id": "0ESC7ayu73S7",
        "colab": {
          "base_uri": "https://localhost:8080/"
        },
        "outputId": "9d8034c6-b3ab-49c6-cc7c-7e4d820c0495"
      },
      "execution_count": 41,
      "outputs": [
        {
          "output_type": "stream",
          "name": "stdout",
          "text": [
            "[1,    50] loss: 2.307\n",
            "[1,   100] loss: 2.306\n",
            "[1,   150] loss: 2.306\n",
            "[1,   200] loss: 2.303\n",
            "[1,   250] loss: 2.174\n",
            "[1,   300] loss: 2.100\n",
            "[1,   350] loss: 1.998\n",
            "[1,   400] loss: 1.917\n",
            "[1,   450] loss: 1.901\n",
            "[1,   500] loss: 1.882\n",
            "[1,   550] loss: 1.948\n",
            "[1,   600] loss: 1.847\n",
            "[1,   650] loss: 1.843\n",
            "[1,   700] loss: 1.840\n",
            "[1,   750] loss: 1.785\n",
            "[2,    50] loss: 1.772\n",
            "[2,   100] loss: 1.736\n",
            "[2,   150] loss: 1.701\n",
            "[2,   200] loss: 1.642\n",
            "[2,   250] loss: 1.642\n",
            "[2,   300] loss: 1.593\n",
            "[2,   350] loss: 1.575\n",
            "[2,   400] loss: 1.540\n",
            "[2,   450] loss: 1.517\n",
            "[2,   500] loss: 1.516\n",
            "[2,   550] loss: 1.525\n",
            "[2,   600] loss: 1.467\n",
            "[2,   650] loss: 1.446\n",
            "[2,   700] loss: 1.451\n",
            "[2,   750] loss: 1.436\n",
            "[3,    50] loss: 1.330\n",
            "[3,   100] loss: 1.401\n",
            "[3,   150] loss: 1.367\n",
            "[3,   200] loss: 1.377\n",
            "[3,   250] loss: 1.276\n",
            "[3,   300] loss: 1.302\n",
            "[3,   350] loss: 1.293\n",
            "[3,   400] loss: 1.206\n",
            "[3,   450] loss: 1.247\n",
            "[3,   500] loss: 1.230\n",
            "[3,   550] loss: 1.214\n",
            "[3,   600] loss: 1.260\n",
            "[3,   650] loss: 1.196\n",
            "[3,   700] loss: 1.163\n",
            "[3,   750] loss: 1.147\n",
            "[4,    50] loss: 1.072\n",
            "[4,   100] loss: 1.082\n",
            "[4,   150] loss: 1.082\n",
            "[4,   200] loss: 1.070\n",
            "[4,   250] loss: 1.029\n",
            "[4,   300] loss: 1.052\n",
            "[4,   350] loss: 1.040\n",
            "[4,   400] loss: 1.019\n",
            "[4,   450] loss: 1.007\n",
            "[4,   500] loss: 0.997\n",
            "[4,   550] loss: 0.964\n",
            "[4,   600] loss: 0.993\n",
            "[4,   650] loss: 0.932\n",
            "[4,   700] loss: 0.964\n",
            "[4,   750] loss: 0.956\n",
            "[5,    50] loss: 0.881\n",
            "[5,   100] loss: 0.870\n",
            "[5,   150] loss: 0.912\n",
            "[5,   200] loss: 0.899\n",
            "[5,   250] loss: 0.880\n",
            "[5,   300] loss: 0.885\n",
            "[5,   350] loss: 0.877\n",
            "[5,   400] loss: 0.874\n",
            "[5,   450] loss: 0.850\n",
            "[5,   500] loss: 0.812\n",
            "[5,   550] loss: 0.829\n",
            "[5,   600] loss: 0.863\n",
            "[5,   650] loss: 0.797\n",
            "[5,   700] loss: 0.765\n",
            "[5,   750] loss: 0.803\n",
            "[6,    50] loss: 0.728\n",
            "[6,   100] loss: 0.753\n",
            "[6,   150] loss: 0.757\n",
            "[6,   200] loss: 0.746\n",
            "[6,   250] loss: 0.756\n",
            "[6,   300] loss: 0.707\n",
            "[6,   350] loss: 0.721\n",
            "[6,   400] loss: 0.709\n",
            "[6,   450] loss: 0.716\n",
            "[6,   500] loss: 0.746\n",
            "[6,   550] loss: 0.704\n",
            "[6,   600] loss: 0.698\n",
            "[6,   650] loss: 0.706\n",
            "[6,   700] loss: 0.723\n",
            "[6,   750] loss: 0.688\n",
            "[7,    50] loss: 0.595\n",
            "[7,   100] loss: 0.634\n",
            "[7,   150] loss: 0.600\n",
            "[7,   200] loss: 0.599\n",
            "[7,   250] loss: 0.619\n",
            "[7,   300] loss: 0.623\n",
            "[7,   350] loss: 0.616\n",
            "[7,   400] loss: 0.636\n",
            "[7,   450] loss: 0.595\n",
            "[7,   500] loss: 0.621\n",
            "[7,   550] loss: 0.594\n",
            "[7,   600] loss: 0.638\n",
            "[7,   650] loss: 0.623\n",
            "[7,   700] loss: 0.610\n",
            "[7,   750] loss: 0.588\n",
            "[8,    50] loss: 0.500\n",
            "[8,   100] loss: 0.504\n",
            "[8,   150] loss: 0.562\n",
            "[8,   200] loss: 0.552\n",
            "[8,   250] loss: 0.548\n",
            "[8,   300] loss: 0.507\n",
            "[8,   350] loss: 0.507\n",
            "[8,   400] loss: 0.503\n",
            "[8,   450] loss: 0.525\n",
            "[8,   500] loss: 0.514\n",
            "[8,   550] loss: 0.528\n",
            "[8,   600] loss: 0.506\n",
            "[8,   650] loss: 0.490\n",
            "[8,   700] loss: 0.528\n",
            "[8,   750] loss: 0.516\n",
            "[9,    50] loss: 0.435\n",
            "[9,   100] loss: 0.435\n",
            "[9,   150] loss: 0.416\n",
            "[9,   200] loss: 0.436\n",
            "[9,   250] loss: 0.445\n",
            "[9,   300] loss: 0.395\n",
            "[9,   350] loss: 0.439\n",
            "[9,   400] loss: 0.473\n",
            "[9,   450] loss: 0.468\n",
            "[9,   500] loss: 0.433\n",
            "[9,   550] loss: 0.433\n",
            "[9,   600] loss: 0.426\n",
            "[9,   650] loss: 0.459\n",
            "[9,   700] loss: 0.458\n",
            "[9,   750] loss: 0.419\n",
            "[10,    50] loss: 0.329\n",
            "[10,   100] loss: 0.380\n",
            "[10,   150] loss: 0.365\n",
            "[10,   200] loss: 0.308\n",
            "[10,   250] loss: 0.338\n",
            "[10,   300] loss: 0.392\n",
            "[10,   350] loss: 0.372\n",
            "[10,   400] loss: 0.316\n",
            "[10,   450] loss: 0.411\n",
            "[10,   500] loss: 0.344\n",
            "[10,   550] loss: 0.371\n",
            "[10,   600] loss: 0.370\n",
            "[10,   650] loss: 0.344\n",
            "[10,   700] loss: 0.398\n",
            "[10,   750] loss: 0.406\n",
            "Finished Training\n",
            "Accuracy of plane : 92 %\n",
            "Accuracy of   car : 88 %\n",
            "Accuracy of  bird : 67 %\n",
            "Accuracy of   cat : 68 %\n",
            "Accuracy of  deer : 82 %\n",
            "Accuracy of   dog : 59 %\n",
            "Accuracy of  frog : 92 %\n",
            "Accuracy of horse : 78 %\n",
            "Accuracy of  ship : 82 %\n",
            "Accuracy of truck : 79 %\n"
          ]
        }
      ]
    },
    {
      "cell_type": "code",
      "source": [
        "correct = 0\n",
        "total = 0\n",
        "\n",
        "model_vgg16_.eval()\n",
        "\n",
        "# 인퍼런스 모드를 위해 no_grad 해줍니다.\n",
        "with torch.no_grad():\n",
        "    # 테스트로더에서 이미지와 정답을 불러옵니다.\n",
        "    for image,label in test_loader:\n",
        "        \n",
        "        # 두 데이터 모두 장치에 올립니다.\n",
        "        x = image.to(device)\n",
        "        y= label.to(device)\n",
        "\n",
        "        # 모델에 데이터를 넣고 결과값을 얻습니다.\n",
        "        output = model_vgg16_.forward(x)\n",
        "        _,output_index = torch.max(output,1)\n",
        "\n",
        "        \n",
        "        # 전체 개수 += 라벨의 개수\n",
        "        total += label.size(0)\n",
        "        correct += (output_index == y).sum().float()\n",
        "    \n",
        "    # 정확도 도출\n",
        "    print(\"Accuracy of Test Data: {}%\".format(100*correct/total))"
      ],
      "metadata": {
        "colab": {
          "base_uri": "https://localhost:8080/"
        },
        "id": "MogRP7w2OYA8",
        "outputId": "5789aaad-b0a0-4039-8680-42c207763111"
      },
      "execution_count": 42,
      "outputs": [
        {
          "output_type": "stream",
          "name": "stdout",
          "text": [
            "Accuracy of Test Data: 78.16999816894531%\n"
          ]
        }
      ]
    },
    {
      "cell_type": "markdown",
      "source": [
        "# 쌩으로 구현"
      ],
      "metadata": {
        "id": "d-OP1qJgQCMR"
      }
    },
    {
      "cell_type": "code",
      "execution_count": null,
      "metadata": {
        "id": "cQcMnmZUmFAQ"
      },
      "outputs": [],
      "source": [
        "class VGG16_(nn.Module):\n",
        "    def __init__(self, out_channels, num_classes=10):\n",
        "        super().__init__()\n",
        "\n",
        "        self.layer1 = nn.Sequential(\n",
        "            #layer1\n",
        "            nn.Conv2d(3, out_channels, kernel_size=3, padding=1), #64\n",
        "            nn.ReLU(),\n",
        "            nn.Conv2d(out_channels, out_channels, kernel_size=3, padding=1), #64\n",
        "            nn.ReLU(),\n",
        "            nn.MaxPool2d(kernel_size=2, stride=2),\n",
        "            #layer2\n",
        "            nn.Conv2d(out_channels, out_channels*2, kernel_size=3, padding=1), #128\n",
        "            nn.ReLU(),\n",
        "            nn.Conv2d(out_channels*2, out_channels*2, kernel_size=3, padding=1),\n",
        "            nn.ReLU(),\n",
        "            nn.MaxPool2d(kernel_size=2, stride=2),\n",
        "            #layer3\n",
        "            nn.Conv2d(out_channels*2, out_channels*4, kernel_size=3, padding=1), #256\n",
        "            nn.ReLU(),\n",
        "            nn.Conv2d(out_channels*4, out_channels*4, kernel_size=3, padding=1),\n",
        "            nn.ReLU(),\n",
        "            nn.Conv2d(out_channels*4, out_channels*4, kernel_size=3, padding=1),\n",
        "            nn.ReLU(),\n",
        "            nn.MaxPool2d(kernel_size=2, stride=2),\n",
        "            #layer4\n",
        "            nn.Conv2d(out_channels*4, out_channels*8, kernel_size=3, padding=1), #512\n",
        "            nn.ReLU(),\n",
        "            nn.Conv2d(out_channels*8, out_channels*8, kernel_size=3, padding=1),\n",
        "            nn.ReLU(),\n",
        "            nn.Conv2d(out_channels*8, out_channels*8, kernel_size=3, padding=1),\n",
        "            nn.ReLU(),\n",
        "            nn.MaxPool2d(kernel_size=2, stride=2),\n",
        "            #layer5\n",
        "            nn.Conv2d(out_channels*8, out_channels*8, kernel_size=3, padding=1),\n",
        "            nn.ReLU(),\n",
        "            nn.Conv2d(out_channels*8, out_channels*8, kernel_size=3, padding=1),\n",
        "            nn.ReLU(),\n",
        "            nn.Conv2d(out_channels*8, out_channels*8, kernel_size=3, padding=1),\n",
        "            nn.ReLU(),\n",
        "            nn.MaxPool2d(kernel_size=2, stride=2))\n",
        "        \n",
        "        self.fc_layer = nn.Sequential(\n",
        "            nn.Linear(8*out_channels*1*1, 4096),\n",
        "            nn.ReLU(),\n",
        "            nn.Dropout(),\n",
        "            nn.Linear(4096, 1000),\n",
        "            nn.ReLU(),\n",
        "            nn.Dropout(),\n",
        "            nn.Linear(1000, num_classes)\n",
        "            )\n",
        "        \n",
        "\n",
        "    def forward(self, x):\n",
        "        x = self.layer1(x)\n",
        "\n",
        "        x = x.view(x.size(0), -1)\n",
        "\n",
        "        x = self.fc_layer(x)\n",
        "\n",
        "        return x"
      ]
    },
    {
      "cell_type": "code",
      "source": [
        "from torchsummary import summary as summary_\n",
        "\n",
        "summary_(model_vgg16, (3,32,32))"
      ],
      "metadata": {
        "colab": {
          "base_uri": "https://localhost:8080/"
        },
        "id": "9wDuKEIq2_Ij",
        "outputId": "f23bd69c-9613-43d4-dcd9-a196a1fb753f"
      },
      "execution_count": null,
      "outputs": [
        {
          "output_type": "stream",
          "name": "stdout",
          "text": [
            "----------------------------------------------------------------\n",
            "        Layer (type)               Output Shape         Param #\n",
            "================================================================\n",
            "            Conv2d-1           [-1, 64, 32, 32]           1,792\n",
            "              ReLU-2           [-1, 64, 32, 32]               0\n",
            "            Conv2d-3           [-1, 64, 32, 32]          36,928\n",
            "              ReLU-4           [-1, 64, 32, 32]               0\n",
            "         MaxPool2d-5           [-1, 64, 16, 16]               0\n",
            "            Conv2d-6          [-1, 128, 16, 16]          73,856\n",
            "              ReLU-7          [-1, 128, 16, 16]               0\n",
            "            Conv2d-8          [-1, 128, 16, 16]         147,584\n",
            "              ReLU-9          [-1, 128, 16, 16]               0\n",
            "        MaxPool2d-10            [-1, 128, 8, 8]               0\n",
            "           Conv2d-11            [-1, 256, 8, 8]         295,168\n",
            "             ReLU-12            [-1, 256, 8, 8]               0\n",
            "           Conv2d-13            [-1, 256, 8, 8]         590,080\n",
            "             ReLU-14            [-1, 256, 8, 8]               0\n",
            "           Conv2d-15            [-1, 256, 8, 8]         590,080\n",
            "             ReLU-16            [-1, 256, 8, 8]               0\n",
            "        MaxPool2d-17            [-1, 256, 4, 4]               0\n",
            "           Conv2d-18            [-1, 512, 4, 4]       1,180,160\n",
            "             ReLU-19            [-1, 512, 4, 4]               0\n",
            "           Conv2d-20            [-1, 512, 4, 4]       2,359,808\n",
            "             ReLU-21            [-1, 512, 4, 4]               0\n",
            "           Conv2d-22            [-1, 512, 4, 4]       2,359,808\n",
            "             ReLU-23            [-1, 512, 4, 4]               0\n",
            "        MaxPool2d-24            [-1, 512, 2, 2]               0\n",
            "           Conv2d-25            [-1, 512, 2, 2]       2,359,808\n",
            "             ReLU-26            [-1, 512, 2, 2]               0\n",
            "           Conv2d-27            [-1, 512, 2, 2]       2,359,808\n",
            "             ReLU-28            [-1, 512, 2, 2]               0\n",
            "           Conv2d-29            [-1, 512, 2, 2]       2,359,808\n",
            "             ReLU-30            [-1, 512, 2, 2]               0\n",
            "        MaxPool2d-31            [-1, 512, 1, 1]               0\n",
            "           Linear-32                 [-1, 4096]       2,101,248\n",
            "             ReLU-33                 [-1, 4096]               0\n",
            "          Dropout-34                 [-1, 4096]               0\n",
            "           Linear-35                 [-1, 1000]       4,097,000\n",
            "             ReLU-36                 [-1, 1000]               0\n",
            "          Dropout-37                 [-1, 1000]               0\n",
            "           Linear-38                   [-1, 10]          10,010\n",
            "================================================================\n",
            "Total params: 20,922,946\n",
            "Trainable params: 20,922,946\n",
            "Non-trainable params: 0\n",
            "----------------------------------------------------------------\n",
            "Input size (MB): 0.01\n",
            "Forward/backward pass size (MB): 4.57\n",
            "Params size (MB): 79.81\n",
            "Estimated Total Size (MB): 84.40\n",
            "----------------------------------------------------------------\n"
          ]
        }
      ]
    },
    {
      "cell_type": "code",
      "source": [
        "device = torch.device(\"cuda:0\" if torch.cuda.is_available() else 'cpu')\n",
        "model_vgg16 = VGG16_(out_channels=64).to(device)\n",
        "\n",
        "optimizer = torch.optim.Adam(model_vgg16.parameters(), lr=1e-3)\n",
        "loss_func = nn.CrossEntropyLoss()"
      ],
      "metadata": {
        "id": "_wR5FiB8tV2L"
      },
      "execution_count": null,
      "outputs": []
    }
  ]
}